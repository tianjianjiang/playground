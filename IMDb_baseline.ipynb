{
  "nbformat": 4,
  "nbformat_minor": 0,
  "metadata": {
    "colab": {
      "name": "IMDb_baseline.ipynb",
      "version": "0.3.2",
      "provenance": [],
      "collapsed_sections": [],
      "toc_visible": true,
      "include_colab_link": true
    },
    "language_info": {
      "codemirror_mode": {
        "name": "ipython",
        "version": 3
      },
      "file_extension": ".py",
      "mimetype": "text/x-python",
      "name": "python",
      "nbconvert_exporter": "python",
      "pygments_lexer": "ipython3",
      "version": "3.6.7"
    },
    "kernelspec": {
      "name": "python3",
      "display_name": "Python 3"
    },
    "accelerator": "GPU"
  },
  "cells": [
    {
      "cell_type": "markdown",
      "metadata": {
        "id": "view-in-github",
        "colab_type": "text"
      },
      "source": [
        "<a href=\"https://colab.research.google.com/github/tianjianjiang/playground/blob/master/IMDb_baseline.ipynb\" target=\"_parent\"><img src=\"https://colab.research.google.com/assets/colab-badge.svg\" alt=\"Open In Colab\"/></a>"
      ]
    },
    {
      "cell_type": "markdown",
      "metadata": {
        "id": "Ocp8ASHWDnAp",
        "colab_type": "text"
      },
      "source": [
        "[![Open In Colab](https://colab.research.google.com/assets/colab-badge.svg)](https://colab.research.google.com/github/tianjianjiang/playground/blob/master/notebooks/IMDb_baseline.ipynb)"
      ]
    },
    {
      "cell_type": "markdown",
      "metadata": {
        "id": "o9LbB0krq6z2",
        "colab_type": "text"
      },
      "source": [
        "# Prepare"
      ]
    },
    {
      "cell_type": "markdown",
      "metadata": {
        "id": "jMnqAd1HJ1Br",
        "colab_type": "text"
      },
      "source": [
        "## References\n",
        "* [fastai/course-v3/nbs/dl1/lesson3-imdb.ipynb](https://nbviewer.jupyter.org/github/fastai/course-v3/blob/master/nbs/dl1/lesson3-imdb.ipynb) (2019-05-03)\n",
        "\n",
        "learner|bs|lr  |bptt|wd  |drop_mult|`to_fp16(clip)`|fw acc%\n",
        "--     |-:|--: |--: |--: |--:      |--             |--:\n",
        "lm     |48|1e-2|70  |0.01|0.3      |No             |34.1371\n",
        "cf     |48|2e-2|70  |0.01|0.5      |No             |94.3960\n",
        "\n",
        "* [fastai/fastai/examples/ULMFit.ipynb](https://nbviewer.jupyter.org/github/fastai/fastai/blob/master/examples/ULMFit.ipynb) (2019-06-11)\n",
        "\n",
        "  > Fine-tuning a forward and backward langauge model to get to 95.4% accuracy on the IMDB movie reviews dataset. This tutorial is done with fastai v1.0.53.\n",
        "\n",
        "  > The example was run on a Titan RTX (24 GB of RAM) so you will probably need to adjust the batch size accordinly. If you divide it by 2, don't forget to divide the learning rate by 2 as well in the following cells. You can also reduce a little bit the bptt to gain a bit of memory.\n",
        "\n",
        "learner|bs |lr  |bptt|wd  |drop_mult|`to_fp16(clip)`|fw acc%|bw acc%|avg acc%\n",
        "--     |--:|--: |--: |--: |--:      |--             |--:    |--:    |--:\n",
        "lm     |256|2e-2|  80|0.1 |1.0      |Yes; clip=0.1  |34.0075|37.2268|N/A\n",
        "cf     |128|1e-1| 70†|0.1‡|0.5      |No             |94.9560|94.7400|95.39\n",
        "\n",
        "    † both cf's used default bptt=70\n",
        "    ‡ forward cf used default wd=0.01\n",
        "\n",
        "* [fastai/course-nlp/nn-imdb-more.ipynb](https://nbviewer.jupyter.org/github/fastai/course-nlp/blob/master/nn-imdb-more.ipynb) (2019-06-12)\n",
        "\n",
        "learner|bs |lr        |bptt|wd  |drop_mult|`to_fp16(clip)`|fw acc%\n",
        "--     |--:|--:       |--: |--: |--:      |--             |--:\n",
        "lm     |128|1e-2*bs/48|  70|0.01|1.0      |Yes; clip=None |>27.8265†\n",
        "cf     |128|2e-2*bs/48|  70|0.01|0.5      |Yes; clip=None |94.8080\n",
        "\n",
        "    † forward lm's final accuracy wasn't shown"
      ]
    },
    {
      "cell_type": "code",
      "metadata": {
        "id": "QF718toQqs83",
        "colab_type": "code",
        "colab": {}
      },
      "source": [
        "# Ensure GPU spec; T4 is for colab and one can change it for another env.\n",
        "gpu_list = !nvidia-smi -L\n",
        "if gpu_list[0].startswith('NVIDIA-SMI has failed'):\n",
        "  print('Runtime type should be GPU.')\n",
        "elif not gpu_list[0].startswith('GPU 0: Tesla T4'):\n",
        "  display(gpu_list)\n",
        "  print('Please reset all runtimes. We need a Tesla T4 to reproduce the experiments!')\n",
        "else:\n",
        "  display(gpu_list)"
      ],
      "execution_count": 0,
      "outputs": []
    },
    {
      "cell_type": "markdown",
      "metadata": {
        "id": "0OcNDqMgrCca",
        "colab_type": "text"
      },
      "source": [
        "## Dependency"
      ]
    },
    {
      "cell_type": "markdown",
      "metadata": {
        "id": "jrjoIzboW09N",
        "colab_type": "text"
      },
      "source": [
        "### Install"
      ]
    },
    {
      "cell_type": "code",
      "metadata": {
        "id": "2rwtTuykrEWy",
        "colab_type": "code",
        "colab": {}
      },
      "source": [
        "# Ensure no surprises from conflict packages.\n",
        "!pip check"
      ],
      "execution_count": 0,
      "outputs": []
    },
    {
      "cell_type": "code",
      "metadata": {
        "id": "bymTjo9wrz5f",
        "colab_type": "code",
        "colab": {}
      },
      "source": [
        "%%capture pip_logs\n",
        "!pip install -U fastai==1.0.57 ipyexperiments jupyter-console==5.2.0 coverage==4.5.3 coveralls datascience albumentations"
      ],
      "execution_count": 0,
      "outputs": []
    },
    {
      "cell_type": "code",
      "metadata": {
        "id": "ojbk71i1xaFi",
        "colab_type": "code",
        "colab": {}
      },
      "source": [
        "# If package updates demands a restart, a colab_vnd generated button will show.\n",
        "colab_vnd = 'application/vnd.colab-display-data+json'\n",
        "for o in pip_logs.outputs:\n",
        "  if colab_vnd in o.data and 'pip_warning' in o.data[colab_vnd]:\n",
        "    o.display()\n",
        "!pip check"
      ],
      "execution_count": 0,
      "outputs": []
    },
    {
      "cell_type": "markdown",
      "metadata": {
        "id": "7z1_46NArGi_",
        "colab_type": "text"
      },
      "source": [
        "### Import"
      ]
    },
    {
      "cell_type": "code",
      "metadata": {
        "id": "LMm8qgQqD2eC",
        "colab_type": "code",
        "colab": {}
      },
      "source": [
        "import gc\n",
        "import math\n",
        "from pathlib import Path\n",
        "import pickle\n",
        "import random\n",
        "from shutil import copytree\n",
        "from typing import Optional, Tuple\n",
        "\n",
        "import numpy as np\n",
        "import torch\n",
        "from google.colab import drive\n",
        "\n",
        "from fastai import basic_data, basic_train, core\n",
        "from fastai import *\n",
        "from fastai.callbacks import CSVLogger, MixedPrecision\n",
        "from fastai.core import plt\n",
        "from fastai.text import *\n",
        "from fastprogress import fastprogress\n",
        "\n",
        "from ipyexperiments import *"
      ],
      "execution_count": 0,
      "outputs": []
    },
    {
      "cell_type": "markdown",
      "metadata": {
        "id": "DTVchfsRnLgI",
        "colab_type": "text"
      },
      "source": [
        "### Init\n"
      ]
    },
    {
      "cell_type": "code",
      "metadata": {
        "id": "QnxWkqafNxvA",
        "colab_type": "code",
        "colab": {}
      },
      "source": [
        "# Not set earlier because pip may require a restart.\n",
        "SESSN_START, = !date +%Y%m%dT%H%M"
      ],
      "execution_count": 0,
      "outputs": []
    },
    {
      "cell_type": "code",
      "metadata": {
        "id": "iTX1BGNQN6VB",
        "colab_type": "code",
        "colab": {}
      },
      "source": [
        "%load_ext autoreload\n",
        "%autoreload 2\n",
        "\n",
        "%config InlineBackend.figure_formats = {'png', 'retina'}"
      ],
      "execution_count": 0,
      "outputs": []
    },
    {
      "cell_type": "code",
      "metadata": {
        "id": "wGlH0nWchbZL",
        "colab_type": "code",
        "colab": {}
      },
      "source": [
        "# Stylize the plot of `lr_find()`\n",
        "plt.style.use(['dark_background','seaborn-poster','seaborn-deep'])\n",
        "plt.rcParams['axes.grid'] = True\n",
        "plt.rcParams['axes.grid.axis'] = 'x'\n",
        "plt.rcParams['axes.grid.which'] = 'both'\n",
        "plt.rcParams['grid.alpha'] = 0.5\n",
        "plt.rcParams['grid.color'] = 'xkcd:lime green'\n",
        "plt.rcParams['grid.linestyle'] = ':'"
      ],
      "execution_count": 0,
      "outputs": []
    },
    {
      "cell_type": "code",
      "metadata": {
        "id": "db_RafAMN2mK",
        "colab_type": "code",
        "colab": {}
      },
      "source": [
        "# A special treatment for colab to decrease network traffic.\n",
        "fastprogress.NO_BAR = True\n",
        "master_bar, progress_bar = fastprogress.force_console_behavior()\n",
        "basic_train.master_bar, basic_train.progress_bar = master_bar, progress_bar\n",
        "basic_data.master_bar, basic_data.progress_bar = master_bar, progress_bar\n",
        "dataclass.master_bar, dataclass.progress_bar = master_bar, progress_bar\n",
        "text.master_bar, text.progress_bar = master_bar, progress_bar\n",
        "text.data.master_bar, text.data.progress_bar = master_bar, progress_bar\n",
        "core.master_bar, core.progress_bar = master_bar, progress_bar"
      ],
      "execution_count": 0,
      "outputs": []
    },
    {
      "cell_type": "code",
      "metadata": {
        "id": "iDMmtPemp8H3",
        "colab_type": "code",
        "colab": {}
      },
      "source": [
        "COLAB_CONTENT_DIR = Path('/content')\n",
        "GD_DIR = COLAB_CONTENT_DIR / 'gdrive'\n",
        "drive.mount(str(GD_DIR), force_remount=True)"
      ],
      "execution_count": 0,
      "outputs": []
    },
    {
      "cell_type": "code",
      "metadata": {
        "id": "uDRg1_MUpXjy",
        "colab_type": "code",
        "colab": {}
      },
      "source": [
        "CORPUS = 'imdb'\n",
        "BASE_DIR = GD_DIR / 'My Drive' / CORPUS\n",
        "BASE_DIR.mkdir(parents=True, exist_ok=True)\n",
        "DATA_DIR = BASE_DIR / 'data'\n",
        "DATA_DIR.mkdir(parents=True, exist_ok=True)\n",
        "MDLS_DIR = BASE_DIR / 'models'\n",
        "MDLS_DIR.mkdir(parents=True, exist_ok=True)\n",
        "LOGS_DIR = BASE_DIR / 'logs'\n",
        "LOGS_DIR.mkdir(parents=True, exist_ok=True)\n",
        "\n",
        "FASTAI_DATA_DIR = Path('/root/.fastai/data')\n",
        "FASTAI_DATA_DIR.mkdir(parents=True, exist_ok=True)\n",
        "COLAB_DATA_DIR = COLAB_CONTENT_DIR / 'data'\n",
        "if not COLAB_DATA_DIR.is_symlink():\n",
        "  COLAB_DATA_DIR.symlink_to(FASTAI_DATA_DIR)\n",
        "if (COLAB_CONTENT_DIR / 'sample_data').exists():\n",
        "  !rm -rf /content/sample_data/\n",
        "\n",
        "CORPUS_IN_COLAB_DATA_DIR = COLAB_DATA_DIR / CORPUS"
      ],
      "execution_count": 0,
      "outputs": []
    },
    {
      "cell_type": "code",
      "metadata": {
        "id": "2GRWbysx7IRg",
        "colab_type": "code",
        "colab": {}
      },
      "source": [
        "downloaded_corpus_dir = untar_data(URLs.IMDB, dest=COLAB_DATA_DIR)\n",
        "assert downloaded_corpus_dir == CORPUS_IN_COLAB_DATA_DIR"
      ],
      "execution_count": 0,
      "outputs": []
    },
    {
      "cell_type": "markdown",
      "metadata": {
        "id": "O2RKejF7YdPR",
        "colab_type": "text"
      },
      "source": [
        "# Assign"
      ]
    },
    {
      "cell_type": "code",
      "metadata": {
        "id": "y18xZgbnXVMo",
        "colab_type": "code",
        "colab": {}
      },
      "source": [
        "#@title Hyper-parameters\n",
        "\n",
        "lm_bs = 64  #@param {type: \"number\"}\n",
        "cf_bs = 64  #@param {type: \"number\"}\n",
        "bptt = 70  #@param {type: \"number\"}\n",
        "moms = (0.8, 0.7)  #@param\n",
        "\n",
        "REFERRED_LM_LR = 1e-2 * lm_bs / 48\n",
        "REFERRED_CF_LR = 2e-2 * cf_bs / 48\n",
        "\n",
        "#@markdown ---\n",
        "\n",
        "lm_wd = 0.01  #@param {type: \"number\"}\n",
        "cf_wd = 0.01  #@param {type: \"number\"}\n",
        "lm_drop_mult = 1.0  #@param {type: \"number\"}\n",
        "cf_drop_mult = 0.5  #@param {type: \"number\"}\n",
        "\n",
        "FW_LM_DBNCH_FNAME = f'fw_lm_dbnch-b{lm_bs}-bptt{bptt}.pkl'\n",
        "FW_CF_DBNCH_FNAME = f'fw_cf_dbnch-b{cf_bs}-bptt{bptt}.pkl'\n",
        "\n",
        "VOCAB_FILE = DATA_DIR / f'imdb_vocab.pkl'"
      ],
      "execution_count": 0,
      "outputs": []
    },
    {
      "cell_type": "code",
      "metadata": {
        "id": "ruGmJGQX9zh-",
        "colab_type": "code",
        "colab": {}
      },
      "source": [
        "IMDB_CLASSES = ['neg', 'pos']"
      ],
      "execution_count": 0,
      "outputs": []
    },
    {
      "cell_type": "code",
      "metadata": {
        "id": "P381SP4eYxv8",
        "colab_type": "code",
        "colab": {}
      },
      "source": [
        "# Set num_workers to main process since the training set will be shuffled.\n",
        "N_DBNCH_WRKRS = 0"
      ],
      "execution_count": 0,
      "outputs": []
    },
    {
      "cell_type": "code",
      "metadata": {
        "id": "1iOEouOl0WkK",
        "colab_type": "code",
        "colab": {}
      },
      "source": [
        "# One seed to rule pseudo-random number generators all.\n",
        "SEED = 42"
      ],
      "execution_count": 0,
      "outputs": []
    },
    {
      "cell_type": "markdown",
      "metadata": {
        "id": "CEfPdqf-I-bZ",
        "colab_type": "text"
      },
      "source": [
        "# Define"
      ]
    },
    {
      "cell_type": "markdown",
      "metadata": {
        "id": "3S70SGOwBDp_",
        "colab_type": "text"
      },
      "source": [
        "All those helpers are for demonstration. Ideal implementations would be decorators or callbacks.\n",
        "\n",
        "However, although fastai prefers callbacks, the order of callback invocations will be another issue."
      ]
    },
    {
      "cell_type": "markdown",
      "metadata": {
        "id": "tAhmWnGMZh7q",
        "colab_type": "text"
      },
      "source": [
        "## PRNG State Fixer"
      ]
    },
    {
      "cell_type": "code",
      "metadata": {
        "id": "2QAli-Wt0Z1M",
        "colab_type": "code",
        "colab": {}
      },
      "source": [
        "@dataclass\n",
        "class PseudoRandomStatesHolder:\n",
        "  py3_state: Tuple[int, Tuple[int], Optional[float]]\n",
        "  np_state: Tuple[str, np.ndarray, int, int, float]\n",
        "  torch_state: torch.ByteTensor\n",
        "  cuda_states: List[torch.ByteTensor]"
      ],
      "execution_count": 0,
      "outputs": []
    },
    {
      "cell_type": "code",
      "metadata": {
        "id": "H6ETnToMbEuG",
        "colab_type": "code",
        "colab": {}
      },
      "source": [
        "# fastai v1.0.57 does something similar but it won't suffice.\n",
        "def reset_prng_states(seed=SEED):\n",
        "  random.seed(SEED)\n",
        "  np.random.seed(SEED)\n",
        "  torch.manual_seed(SEED)  # This implies torch.cuda.manual_seed_all(SEED) now\n",
        "  # if torch.cuda.is_available(): torch.cuda.manual_seed_all(SEED)\n",
        "  torch.backends.cudnn.deterministic = True  # About 15% slower but...\n",
        "  torch.backends.cudnn.benchmark = False"
      ],
      "execution_count": 0,
      "outputs": []
    },
    {
      "cell_type": "code",
      "metadata": {
        "id": "ACszEIL30lzu",
        "colab_type": "code",
        "colab": {}
      },
      "source": [
        "def get_prng_states():\n",
        "  prng_states = PseudoRandomStatesHolder(random.getstate(),\n",
        "                                         np.random.get_state(),\n",
        "                                         torch.get_rng_state(),\n",
        "                                         torch.cuda.get_rng_state_all())\n",
        "  # print(f'Got prng_states:\\n'\n",
        "  #       f'  py3:   {prng_states.py3_state}\\n'\n",
        "  #       f'  np:    {prng_states.np_state}\\n'\n",
        "  #       f'  torch: {prng_states.torch_state}\\n'\n",
        "  #       f'  cuda:  {prng_states.cuda_states}')\n",
        "  return prng_states"
      ],
      "execution_count": 0,
      "outputs": []
    },
    {
      "cell_type": "code",
      "metadata": {
        "id": "j7RHtjHM0n4u",
        "colab_type": "code",
        "colab": {}
      },
      "source": [
        "def set_prng_states(prng_states: PseudoRandomStatesHolder):\n",
        "  random.setstate(prng_states.py3_state)\n",
        "  np.random.set_state(prng_states.np_state)\n",
        "  torch.set_rng_state(prng_states.torch_state)\n",
        "  torch.cuda.set_rng_state_all(prng_states.cuda_states)\n",
        "  # print(f'Set prng_states:\\n'\n",
        "  #       f'  py3:   {prng_states.py3_state}\\n'\n",
        "  #       f'  np:    {prng_states.np_state}\\n'\n",
        "  #       f'  torch: {prng_states.torch_state}\\n'\n",
        "  #       f'  cuda:  {prng_states.cuda_states}')"
      ],
      "execution_count": 0,
      "outputs": []
    },
    {
      "cell_type": "code",
      "metadata": {
        "id": "JIOGaaQO0p1w",
        "colab_type": "code",
        "colab": {}
      },
      "source": [
        "def save_prng_states(name, prng_states, data_dir=DATA_DIR):\n",
        "  prng_states_pkl_path = data_dir / f'ps-{name}.pkl'\n",
        "  with open(prng_states_pkl_path, 'wb') as f:\n",
        "    pickle.dump(prng_states, f)"
      ],
      "execution_count": 0,
      "outputs": []
    },
    {
      "cell_type": "code",
      "metadata": {
        "id": "JlbP4Ycg0rXu",
        "colab_type": "code",
        "colab": {}
      },
      "source": [
        "def load_prng_states(name, data_dir=DATA_DIR):\n",
        "  prng_states_pkl_path = data_dir / f'ps-{name}.pkl'\n",
        "  if (prng_states_pkl_path.exists() and prng_states_pkl_path.is_file()):\n",
        "    with open(prng_states_pkl_path, 'rb') as f:\n",
        "      prng_states = pickle.load(f)\n",
        "      return prng_states\n",
        "  else:\n",
        "    raise FileNotFoundError(f'No {prng_states_pkl_path} to load!')"
      ],
      "execution_count": 0,
      "outputs": []
    },
    {
      "cell_type": "markdown",
      "metadata": {
        "id": "WugYIc_SHgkC",
        "colab_type": "text"
      },
      "source": [
        "## Checkpoint Helpers"
      ]
    },
    {
      "cell_type": "code",
      "metadata": {
        "id": "JrTTQsr2HwOB",
        "colab_type": "code",
        "colab": {}
      },
      "source": [
        "@dataclass\n",
        "class Checkpoint:\n",
        "  name: str\n",
        "  frozen_to: int\n",
        "  mp_loss_scale: float"
      ],
      "execution_count": 0,
      "outputs": []
    },
    {
      "cell_type": "code",
      "metadata": {
        "id": "HTXpAmZhHn4Z",
        "colab_type": "code",
        "colab": {}
      },
      "source": [
        "def preserve_event(name, learner, frozen_to=-1, data_dir=DATA_DIR):\n",
        "  save_prng_states(name, get_prng_states())\n",
        "\n",
        "  learner.save(name, with_opt=True)\n",
        "\n",
        "  mp_loss_scale = None\n",
        "  for i, cb in enumerate(learner.callbacks):\n",
        "    if isinstance(cb, MixedPrecision):\n",
        "      print(f'Found MixedPrecision loss_scale={cb.loss_scale}')\n",
        "      mp_loss_scale = cb.loss_scale\n",
        "      break\n",
        "\n",
        "  checkpoint = Checkpoint(name, frozen_to, mp_loss_scale)\n",
        "  checkpoint_fpath = data_dir / f'cp-{name}.pkl'\n",
        "  with open(checkpoint_fpath, 'wb') as f:\n",
        "    pickle.dump(checkpoint, f)\n",
        "    print(f'{checkpoint} saved to {checkpoint_fpath}')"
      ],
      "execution_count": 0,
      "outputs": []
    },
    {
      "cell_type": "code",
      "metadata": {
        "id": "Gzg87e_AIeHj",
        "colab_type": "code",
        "colab": {}
      },
      "source": [
        "def retain_event(name, learner, data_dir=DATA_DIR):\n",
        "  if name is None:\n",
        "    reset_prng_states()\n",
        "  else:\n",
        "    set_prng_states(load_prng_states(name))\n",
        "\n",
        "  checkpoint_fpath = data_dir / f'cp-{name}.pkl'\n",
        "  if not (checkpoint_fpath.exists() and checkpoint_fpath.is_file()):\n",
        "    print(f'No {checkpoint_fpath} to load!')\n",
        "    return learner\n",
        "  with open(checkpoint_fpath, 'rb') as f:\n",
        "    checkpoint = pickle.load(f)\n",
        "    print(f'{checkpoint} loaded from {checkpoint_fpath}')\n",
        "\n",
        "    learner.freeze_to(checkpoint.frozen_to)  # This must be before `load()`.\n",
        "    print(f'Frozen to {checkpoint.frozen_to}')\n",
        "\n",
        "    learner = learner.load(checkpoint.name, with_opt=True)\n",
        "\n",
        "    if checkpoint.mp_loss_scale:\n",
        "      for i, cb in enumerate(learner.callbacks):\n",
        "        if isinstance(cb, MixedPrecision):\n",
        "          learner.callbacks[i].loss_scale = checkpoint.mp_loss_scale\n",
        "          print('Retained MixedPrecision loss_scale='\n",
        "                f'{learner.callbacks[i].loss_scale}')\n",
        "          break\n",
        "\n",
        "    return learner"
      ],
      "execution_count": 0,
      "outputs": []
    },
    {
      "cell_type": "code",
      "metadata": {
        "id": "UOZDR1xb5_-j",
        "colab_type": "code",
        "colab": {}
      },
      "source": [
        "def fit_a_named_cycle(name, learner, lrs, moms, wd, clbks, cyc_len, freeze_to,\n",
        "                      prev_event_name):\n",
        "  for i, cb in enumerate(learner.callbacks):\n",
        "    if isinstance(cb, MixedPrecision):\n",
        "      print(f'Found MixedPrecision loss_scale={cb.loss_scale}')\n",
        "  learner = retain_event(prev_event_name, learner)\n",
        "\n",
        "  # `unfreeze()` does just `freeze_to(0)`\n",
        "  # `freeze()` does `freeze_to(-1)` with a size-assertion of layer groups\n",
        "  learner.freeze_to(freeze_to)\n",
        "  learner.fit_one_cycle(cyc_len=cyc_len, max_lr=lrs, moms=moms, wd=wd,\n",
        "                        callbacks=clbks)\n",
        "\n",
        "  preserve_event(name, learner, freeze_to)\n",
        "\n",
        "  return learner"
      ],
      "execution_count": 0,
      "outputs": []
    },
    {
      "cell_type": "markdown",
      "metadata": {
        "id": "dJwkXFIyJlkB",
        "colab_type": "text"
      },
      "source": [
        "## LM-specific Helpers"
      ]
    },
    {
      "cell_type": "code",
      "metadata": {
        "id": "Hjm3439wUJUE",
        "colab_type": "code",
        "colab": {}
      },
      "source": [
        "def set_lm_databunch(fname, bs, bptt, seed=SEED, presort=True,\n",
        "                     n_wrkrs=N_DBNCH_WRKRS, data_dir=DATA_DIR,\n",
        "                     raw_data_dir=CORPUS_IN_COLAB_DATA_DIR):\n",
        "  reset_prng_states()\n",
        "  tl = TextList.from_folder(raw_data_dir, presort=presort)\n",
        "  il = tl.filter_by_folder(include=['train', 'test', 'unsup'])\n",
        "  ils = il.split_by_rand_pct(0.1, seed)  # Set the seed again since in theory one may have called np.random before this.\n",
        "  lls = ils.label_for_lm()\n",
        "  dbnch = lls.databunch(bs=bs, bptt=bptt, num_workers=n_wrkrs)\n",
        "  dbnch.save(data_dir / fname)\n",
        "  return dbnch"
      ],
      "execution_count": 0,
      "outputs": []
    },
    {
      "cell_type": "code",
      "metadata": {
        "id": "LcZ9A0JNfA7M",
        "colab_type": "code",
        "colab": {}
      },
      "source": [
        "def get_lm_databunch(fname, bs, bptt, backwards=False, n_wrkrs=N_DBNCH_WRKRS,\n",
        "                     data_dir=DATA_DIR):\n",
        "  reset_prng_states()\n",
        "  return load_data(data_dir, fname, bs, num_workers=n_wrkrs,\n",
        "                   backwards=backwards, bptt=bptt)"
      ],
      "execution_count": 0,
      "outputs": []
    },
    {
      "cell_type": "code",
      "metadata": {
        "id": "NJnkgQiJqCyZ",
        "colab_type": "code",
        "colab": {}
      },
      "source": [
        "def new_lm_learner_with_ulmfit(name, dbnch, drop_mult, base_dir=BASE_DIR):\n",
        "  reset_prng_states()\n",
        "  lrnr = language_model_learner(dbnch, AWD_LSTM, drop_mult=drop_mult,\n",
        "                                path=base_dir)\n",
        "  # lrnr = lrnr.to_fp16(clip=0.1)  # 2x faster\n",
        "  lrnr = lrnr.to_fp16()  # 2x faster\n",
        "  save_prng_states(name, get_prng_states())\n",
        "  return lrnr"
      ],
      "execution_count": 0,
      "outputs": []
    },
    {
      "cell_type": "markdown",
      "metadata": {
        "id": "k7ygpuHbJo0t",
        "colab_type": "text"
      },
      "source": [
        "## CF-specific Helpers"
      ]
    },
    {
      "cell_type": "code",
      "metadata": {
        "id": "sPkphOtiXTHH",
        "colab_type": "code",
        "colab": {}
      },
      "source": [
        "def set_cf_databunch(fname, bs, vocab, tags=IMDB_CLASSES, presort=True,\n",
        "                     n_wrkrs=N_DBNCH_WRKRS, data_dir=DATA_DIR,\n",
        "                     raw_data_dir=CORPUS_IN_COLAB_DATA_DIR):\n",
        "  reset_prng_states()\n",
        "  tl = TextList.from_folder(raw_data_dir, vocab=vocab, presort=presort)\n",
        "  ils = tl.split_by_folder(valid='test')\n",
        "  lls = ils.label_from_folder(classes=tags)\n",
        "  dbnch = lls.databunch(bs=bs, num_workers=n_wrkrs)\n",
        "  dbnch.save(data_dir / fname)\n",
        "  return dbnch"
      ],
      "execution_count": 0,
      "outputs": []
    },
    {
      "cell_type": "code",
      "metadata": {
        "id": "mB5T78sWfQ8V",
        "colab_type": "code",
        "colab": {}
      },
      "source": [
        "def get_cf_databunch(fname, bs, backwards=False, n_wrkrs=N_DBNCH_WRKRS,\n",
        "                     data_dir=DATA_DIR):\n",
        "  reset_prng_states()\n",
        "  return load_data(data_dir, fname, bs, num_workers=n_wrkrs,\n",
        "                   backwards=backwards)"
      ],
      "execution_count": 0,
      "outputs": []
    },
    {
      "cell_type": "code",
      "metadata": {
        "id": "wxk03xtFYkk6",
        "colab_type": "code",
        "colab": {}
      },
      "source": [
        "def new_cf_learner_with_encoder(name, dbnch, drop_mult, enc_name, bptt,\n",
        "                                base_dir=BASE_DIR):\n",
        "  reset_prng_states()\n",
        "  lrnr = text_classifier_learner(dbnch, AWD_LSTM, drop_mult=drop_mult,\n",
        "                                 path=base_dir, bptt=bptt, pretrained=False)\n",
        "  lrnr = lrnr.to_fp16()\n",
        "  lrnr = lrnr.load_encoder(enc_name)\n",
        "  save_prng_states(name, get_prng_states())\n",
        "  return lrnr"
      ],
      "execution_count": 0,
      "outputs": []
    },
    {
      "cell_type": "markdown",
      "metadata": {
        "id": "4puv1GrLOp5R",
        "colab_type": "text"
      },
      "source": [
        "# Fit"
      ]
    },
    {
      "cell_type": "markdown",
      "metadata": {
        "id": "g3uudRrTXGq3",
        "colab_type": "text"
      },
      "source": [
        "## Forward LM"
      ]
    },
    {
      "cell_type": "markdown",
      "metadata": {
        "id": "wopKpHoLPRj5",
        "colab_type": "text"
      },
      "source": [
        "### Process Data Once"
      ]
    },
    {
      "cell_type": "code",
      "metadata": {
        "id": "aUayc5jQ-ugt",
        "colab_type": "code",
        "colab": {}
      },
      "source": [
        "if not (DATA_DIR / FW_LM_DBNCH_FNAME).exists():\n",
        "  fw_lm_dbnch = set_lm_databunch(FW_LM_DBNCH_FNAME, lm_bs, bptt)\n",
        "  print(f'Built and saved {DATA_DIR / FW_LM_DBNCH_FNAME}')\n",
        "  # fw_lm_dbnch.show_batch()\n",
        "  if not VOCAB_FILE.exists():\n",
        "    fw_lm_dbnch.vocab.save(VOCAB_FILE)\n",
        "    print(f'Saved {VOCAB_FILE}')\n",
        "\n",
        "# fw_lm_dbnch = get_lm_databunch(FW_LM_DBNCH_FNAME, lm_bs, bptt)\n",
        "# print(f'Loaded {DATA_DIR / FW_LM_DBNCH_FNAME}')\n",
        "# fw_lm_dbnch.show_batch()\n",
        "# IMDB_VOC = Vocab.load(VOCAB_FILE)\n",
        "# print(f'Loaded {VOCAB_FILE}')"
      ],
      "execution_count": 0,
      "outputs": []
    },
    {
      "cell_type": "markdown",
      "metadata": {
        "id": "M_IIOjBt8a0O",
        "colab_type": "text"
      },
      "source": [
        "### Find Learning Rate"
      ]
    },
    {
      "cell_type": "markdown",
      "metadata": {
        "id": "sbwGy8uACFp9",
        "colab_type": "text"
      },
      "source": [
        "I use a different method to approximate a good learning rate."
      ]
    },
    {
      "cell_type": "code",
      "metadata": {
        "id": "2dflRYKkYtv2",
        "colab_type": "code",
        "colab": {}
      },
      "source": [
        "%%capture lm_lr_find_scope_begin_log\n",
        "lm_lr_find_scope = IPyExperimentsPytorch(cl_enable=False)"
      ],
      "execution_count": 0,
      "outputs": []
    },
    {
      "cell_type": "code",
      "metadata": {
        "id": "bSdFJ6neuGSi",
        "colab_type": "code",
        "outputId": "ae4767b7-64f7-40e9-abac-2da61dc89002",
        "colab": {
          "base_uri": "https://localhost:8080/",
          "height": 62
        }
      },
      "source": [
        "fw_lm_dbnch = get_lm_databunch(FW_LM_DBNCH_FNAME, lm_bs, bptt)\n",
        "assert fw_lm_dbnch.train_dl.batch_size == lm_bs\n",
        "lm_epoch_sz = math.ceil(len(fw_lm_dbnch.train_ds) / lm_bs)\n",
        "ratio = 4 / 5\n",
        "epoch_scale = ratio * 0.3  # OneCycleScheduler's pct_start=0.3\n",
        "lm_num_it = math.ceil(lm_epoch_sz * epoch_scale)\n",
        "print(\n",
        "    f'lm_epoch_sz = {lm_epoch_sz}\\n'\n",
        "    f'lm_num_it   = {lm_num_it}')"
      ],
      "execution_count": 0,
      "outputs": [
        {
          "output_type": "stream",
          "text": [
            "lm_epoch_sz = 1407\n",
            "lm_num_it   = 338\n"
          ],
          "name": "stdout"
        }
      ]
    },
    {
      "cell_type": "code",
      "metadata": {
        "id": "EYtHdhyQOSZ6",
        "colab_type": "code",
        "colab": {}
      },
      "source": [
        "fw_lm_lrnr = new_lm_learner_with_ulmfit('new-fw_lm', fw_lm_dbnch, lm_drop_mult)\n",
        "fw_lm_lrnr.path = COLAB_DATA_DIR"
      ],
      "execution_count": 0,
      "outputs": []
    },
    {
      "cell_type": "code",
      "metadata": {
        "id": "jiqmaW1FXGqN",
        "colab_type": "code",
        "outputId": "cb42a414-ad15-47e4-ecf5-8b622e3ee0f7",
        "colab": {
          "base_uri": "https://localhost:8080/",
          "height": 150
        }
      },
      "source": [
        "start_lr = 4.5e-4\n",
        "end_lr = round(start_lr * 20, 3)\n",
        "fw_lm_lrnr.lr_find(start_lr, end_lr, lm_num_it, wd=lm_wd)\n",
        "min_loss = np.min(fw_lm_lrnr.recorder.losses)\n",
        "min_loss_it = np.argmin(fw_lm_lrnr.recorder.losses) + 1\n",
        "end_loss = fw_lm_lrnr.recorder.losses[-1].item()\n",
        "print(f'lr range = [{start_lr}, {end_lr}]\\n'\n",
        "      f'min_loss = {min_loss} @ {min_loss_it}\\n'\n",
        "      f'end_loss = {end_loss} @ {lm_num_it}')"
      ],
      "execution_count": 0,
      "outputs": [
        {
          "output_type": "stream",
          "text": [
            "epoch     train_loss  valid_loss  accuracy  time    \n",
            "0         4.593526    #na#        00:55     \n",
            "LR Finder is complete, type {learner_name}.recorder.plot() to see the graph.\n",
            "lr range = [0.00045, 0.009]\n",
            "min_loss = 4.593526363372803 @ 338\n",
            "end_loss = 4.593526363372803 @ 338\n"
          ],
          "name": "stdout"
        }
      ]
    },
    {
      "cell_type": "code",
      "metadata": {
        "id": "UqTHVxFymu4G",
        "colab_type": "code",
        "colab": {}
      },
      "source": [
        "%%capture lm_lr_find_log\n",
        "fw_lm_lrnr.recorder.plot(skip_start=0, skip_end=0, suggestion=True)"
      ],
      "execution_count": 0,
      "outputs": []
    },
    {
      "cell_type": "code",
      "metadata": {
        "id": "9Ib1vF17DxLg",
        "colab_type": "code",
        "outputId": "6fac2c4b-c606-461e-b998-bdfdd0d65cbf",
        "colab": {
          "base_uri": "https://localhost:8080/",
          "height": 606
        }
      },
      "source": [
        "lm_lr_find_log()"
      ],
      "execution_count": 0,
      "outputs": [
        {
          "output_type": "stream",
          "text": [
            "Min numerical gradient: 4.58E-04\n",
            "Min loss divided by 10: 8.92E-04\n"
          ],
          "name": "stdout"
        },
        {
          "output_type": "display_data",
          "data": {
            "image/png": "[encoded data removed]",
            "text/plain": [
              "<Figure size 921.6x633.6 with 1 Axes>"
            ]
          },
          "metadata": {
            "tags": [],
            "image/png": {
              "width": 805,
              "height": 545
            }
          }
        }
      ]
    },
    {
      "cell_type": "code",
      "metadata": {
        "id": "wRKl8uPjblRN",
        "colab_type": "code",
        "colab": {}
      },
      "source": [
        "lm_min_grad_lr = fw_lm_lrnr.recorder.min_grad_lr\n",
        "lm_min_loss_lr = fw_lm_lrnr.recorder.lrs[np.argmin(fw_lm_lrnr.recorder.losses)]\n",
        "((_, lm_min_grad_lr_str),\n",
        " (_, lm_min_loss_lr_dv10_str)\n",
        " ) = [line.split(': ') for line in lm_lr_find_log.stdout.split('\\n') if line]\n",
        "assert f'{lm_min_grad_lr:.2E}' == lm_min_grad_lr_str\n",
        "assert f'{lm_min_loss_lr/10:.2E}' == lm_min_loss_lr_dv10_str\n",
        "(fw_lm_lrnr.path/fw_lm_lrnr.model_dir/'tmp.pth').unlink()"
      ],
      "execution_count": 0,
      "outputs": []
    },
    {
      "cell_type": "code",
      "metadata": {
        "id": "tFtJjiVFXH_j",
        "colab_type": "code",
        "outputId": "1b9f5da8-1841-4b1f-fd0e-4d85fcaf25d7",
        "colab": {
          "base_uri": "https://localhost:8080/",
          "height": 128
        }
      },
      "source": [
        "scale = min_loss_it / lm_num_it\n",
        "my_guess1_lm_lr = lm_min_loss_lr / (ratio * scale)\n",
        "my_guess2_lm_lr = start_lr * scale * 25\n",
        "print(\n",
        "    f'referred  lm_lr = {REFERRED_LM_LR}\\n'\n",
        "    f'min grad. lm_lr = {lm_min_grad_lr}\\n'\n",
        "    f'min loss  lm_lr = {lm_min_loss_lr}\\n'\n",
        "    f'my guess1 lm_lr = {my_guess1_lm_lr}\\n'\n",
        "    f'my guess2 lm_lr = {my_guess2_lm_lr}')"
      ],
      "execution_count": 0,
      "outputs": [
        {
          "output_type": "stream",
          "text": [
            "referred  lm_lr = 0.013333333333333334\n",
            "min grad. lm_lr = 0.0004580479208121953\n",
            "min loss  lm_lr = 0.00892058443532486\n",
            "my guess1 lm_lr = 0.011150730544156074\n",
            "my guess2 lm_lr = 0.01125\n"
          ],
          "name": "stdout"
        }
      ]
    },
    {
      "cell_type": "code",
      "metadata": {
        "id": "wvzb13qas2rT",
        "colab_type": "code",
        "colab": {}
      },
      "source": [
        "%%capture lm_lr_find_scope_end_log\n",
        "lm_lr_find_scope.keep_var_names('my_guess1_lm_lr', 'my_guess2_lm_lr')\n",
        "del lm_lr_find_scope; gc.collect()"
      ],
      "execution_count": 0,
      "outputs": []
    },
    {
      "cell_type": "markdown",
      "metadata": {
        "id": "BKqmxK2NHvbY",
        "colab_type": "text"
      },
      "source": [
        "### Init-fit"
      ]
    },
    {
      "cell_type": "markdown",
      "metadata": {
        "id": "TJYtBrEKCbAp",
        "colab_type": "text"
      },
      "source": [
        "There will be many redundant variable assignments.\n",
        "\n",
        "That is how I indicate the messy global states of a Jupyter notebook.\n",
        "\n",
        "Watch [I don't like notebooks]( https://www.youtube.com/watch?v=7jiPeIFXb6U) for details."
      ]
    },
    {
      "cell_type": "code",
      "metadata": {
        "id": "KSLO-5xrJz3N",
        "colab_type": "code",
        "colab": {}
      },
      "source": [
        "lm_lr = 0.01  # round(my_guess2_lm_lr, 2)\n",
        "init_fw_lm_name = f'init_fw_lm-b{lm_bs}-bptt{bptt}-lr{lm_lr}'\n",
        "print(f'designated lm_lr = {lm_lr}')"
      ],
      "execution_count": 0,
      "outputs": []
    },
    {
      "cell_type": "code",
      "metadata": {
        "id": "CJHXFu6XqUlT",
        "colab_type": "code",
        "colab": {}
      },
      "source": [
        "%%capture init_fw_lm_scope_begin_log\n",
        "init_fw_lm_scope = IPyExperimentsPytorch(cl_enable=False)\n",
        "fw_lm_dbnch = get_lm_databunch(FW_LM_DBNCH_FNAME, lm_bs, bptt)\n",
        "fw_lm_lrnr = new_lm_learner_with_ulmfit('new-fw_lm', fw_lm_dbnch, lm_drop_mult)"
      ],
      "execution_count": 0,
      "outputs": []
    },
    {
      "cell_type": "code",
      "metadata": {
        "id": "UtlmGzaUNDlo",
        "colab_type": "code",
        "outputId": "f5dd8ccc-f92a-4ffd-b3df-02bf4f9f41a6",
        "colab": {
          "base_uri": "https://localhost:8080/",
          "height": 172
        }
      },
      "source": [
        "print(init_fw_lm_name)\n",
        "init_fw_lm_log_name = LOGS_DIR / f'{SESSN_START}-{init_fw_lm_name}'  # w/o .csv\n",
        "init_fw_lm_clbks = [CSVLogger(fw_lm_lrnr, init_fw_lm_log_name, True)]\n",
        "fw_lm_lrnr = fit_a_named_cycle(init_fw_lm_name, fw_lm_lrnr, lm_lr, moms, lm_wd,\n",
        "                               init_fw_lm_clbks, cyc_len=1, freeze_to=-1,\n",
        "                               prev_event_name='new-fw_lm')\n",
        "# init_fw_lm_lrnr.csv_logger.read_logged_file()\n",
        "# (init_fw_lm_lrnr.path / init_fw_lm_lrnr.model_dir).ls()"
      ],
      "execution_count": 0,
      "outputs": [
        {
          "output_type": "stream",
          "text": [
            "init_fw_lm-b64-bptt70-lr0.01115\n",
            "Found init. loss_scale=65536\n",
            "No /content/gdrive/My Drive/imdb/data/cp-new-fw_lm.pkl to load!\n",
            "epoch     train_loss  valid_loss  accuracy  time    \n",
            "0         4.433111    4.068985    0.289440  17:41     \n",
            "Found MixedPrecision loss_scale=1048576.0\n",
            "Checkpoint(name='init_fw_lm-b64-bptt70-lr0.01115', frozen_to=-1, mp_loss_scale=1048576.0) saved to /content/gdrive/My Drive/imdb/data/cp-init_fw_lm-b64-bptt70-lr0.01115.pkl\n"
          ],
          "name": "stdout"
        }
      ]
    },
    {
      "cell_type": "code",
      "metadata": {
        "id": "EVtTYwsyqLmE",
        "colab_type": "code",
        "colab": {}
      },
      "source": [
        "%%capture init_fw_lm_scope_end_log\n",
        "del init_fw_lm_scope\n",
        "gc.collect()"
      ],
      "execution_count": 0,
      "outputs": []
    },
    {
      "cell_type": "markdown",
      "metadata": {
        "id": "NhGjAxk1IHCQ",
        "colab_type": "text"
      },
      "source": [
        "### Fine-tune"
      ]
    },
    {
      "cell_type": "code",
      "metadata": {
        "id": "_ElUVVmHE1MH",
        "colab_type": "code",
        "colab": {}
      },
      "source": [
        "lm_lr = 0.01125\n",
        "init_fw_lm_name = f'init_fw_lm-b{lm_bs}-bptt{bptt}-lr{lm_lr}'\n",
        "fw_enc_name = f'fw_enc-b{lm_bs}-bptt{bptt}-lr{lm_lr}'\n",
        "\n",
        "finer_lm_lr = round(lm_lr / 10, 6)\n",
        "tune_fw_lm_name = f'tune_fw_lm-b{lm_bs}-bptt{bptt}-lr{finer_lm_lr}'\n",
        "print(f'designated finer_lm_lr = {finer_lm_lr}')"
      ],
      "execution_count": 0,
      "outputs": []
    },
    {
      "cell_type": "code",
      "metadata": {
        "id": "dReSm50WhXG2",
        "colab_type": "code",
        "colab": {}
      },
      "source": [
        "%%capture tune_fw_lm_scope_begin_log\n",
        "tune_fw_lm_scope = IPyExperimentsPytorch(cl_enable=False)\n",
        "fw_lm_dbnch = get_lm_databunch(FW_LM_DBNCH_FNAME, lm_bs, bptt)\n",
        "fw_lm_lrnr = new_lm_learner_with_ulmfit('new-fw_lm', fw_lm_dbnch, lm_drop_mult)"
      ],
      "execution_count": 0,
      "outputs": []
    },
    {
      "cell_type": "code",
      "metadata": {
        "id": "948NGiUBj83d",
        "colab_type": "code",
        "outputId": "3749eb7f-6683-499a-9d4c-3e6a10e1676b",
        "colab": {
          "base_uri": "https://localhost:8080/",
          "height": 414
        }
      },
      "source": [
        "print(tune_fw_lm_name)\n",
        "tune_fw_lm_log_name = LOGS_DIR / f'{SESSN_START}-{tune_fw_lm_name}'\n",
        "tune_fw_lm_clbks = [CSVLogger(fw_lm_lrnr, tune_fw_lm_log_name, True)]\n",
        "fw_lm_lrnr = fit_a_named_cycle(tune_fw_lm_name, fw_lm_lrnr, finer_lm_lr, moms,\n",
        "                               lm_wd, tune_fw_lm_clbks, cyc_len=10, freeze_to=0,\n",
        "                               prev_event_name=init_fw_lm_name)\n",
        "fw_lm_lrnr.save_encoder(fw_enc_name)"
      ],
      "execution_count": 0,
      "outputs": [
        {
          "output_type": "stream",
          "text": [
            "tune_fw_lm-b64-bptt70-lr0.001125\n",
            "Found init. loss_scale=65536\n",
            "Checkpoint(name='init_fw_lm-b64-bptt70-lr0.01125', frozen_to=-1, mp_loss_scale=1048576.0) loaded from /content/gdrive/My Drive/imdb/data/cp-init_fw_lm-b64-bptt70-lr0.01125.pkl\n",
            "Frozen to -1\n",
            "Retained mb_loss_scale=1048576.0\n",
            "epoch     train_loss  valid_loss  accuracy  time    \n",
            "0         4.081573    3.880682    0.309587  19:51     \n",
            "1         4.002107    3.815079    0.318992  19:51     \n",
            "2         3.955130    3.776459    0.323981  19:50     \n",
            "3         3.912738    3.736360    0.328587  19:51     \n",
            "4         3.862216    3.704691    0.332078  19:50     \n",
            "5         3.812183    3.673317    0.335519  19:51     \n",
            "6         3.772932    3.647537    0.338416  19:52     \n",
            "7         3.742402    3.628718    0.340383  19:52     \n",
            "8         3.704498    3.618565    0.341570  19:50     \n",
            "9         3.674266    3.616389    0.341848  19:50     \n",
            "Found MixedPrecision loss_scale=2097152.0\n",
            "Checkpoint(name='tune_fw_lm-b64-bptt70-lr0.001125', frozen_to=0, mp_loss_scale=2097152.0) saved to /content/gdrive/My Drive/imdb/data/cp-tune_fw_lm-b64-bptt70-lr0.001125.pkl\n"
          ],
          "name": "stdout"
        }
      ]
    },
    {
      "cell_type": "code",
      "metadata": {
        "id": "SvF0RhTu-uhH",
        "colab_type": "code",
        "colab": {}
      },
      "source": [
        "%%capture tune_fw_lm_scope_end_log\n",
        "del tune_fw_lm_scope\n",
        "gc.collect()"
      ],
      "execution_count": 0,
      "outputs": []
    },
    {
      "cell_type": "markdown",
      "metadata": {
        "id": "V8L_H4uC91mn",
        "colab_type": "text"
      },
      "source": [
        "## Forward CF"
      ]
    },
    {
      "cell_type": "markdown",
      "metadata": {
        "id": "WEvyF2yEOl1j",
        "colab_type": "text"
      },
      "source": [
        "### Process Data Once"
      ]
    },
    {
      "cell_type": "code",
      "metadata": {
        "id": "g7L_vAAWiSVl",
        "colab_type": "code",
        "colab": {}
      },
      "source": [
        "if not (DATA_DIR / FW_CF_DBNCH_FNAME).exists():\n",
        "  IMDB_VOC = Vocab.load(VOCAB_FILE)\n",
        "  print(f'Loaded {VOCAB_FILE}')\n",
        "  fw_cf_dbnch = set_cf_databunch(FW_CF_DBNCH_FNAME, cf_bs, IMDB_VOC)\n",
        "  print(f'Built and saved {DATA_DIR / FW_CF_DBNCH_FNAME}')\n",
        "\n",
        "# fw_cf_dbnch = get_cf_databunch(FW_CF_DBNCH_FNAME, cf_bs)\n",
        "# print(f'Loaded {DATA_DIR / FW_CF_DBNCH_FNAME}')"
      ],
      "execution_count": 0,
      "outputs": []
    },
    {
      "cell_type": "markdown",
      "metadata": {
        "id": "9gaU_j93OsEX",
        "colab_type": "text"
      },
      "source": [
        "### Find Learning Rate"
      ]
    },
    {
      "cell_type": "code",
      "metadata": {
        "id": "LqPH_PI9Qxy0",
        "colab_type": "code",
        "colab": {}
      },
      "source": [
        "%%capture cf_lr_find_scope_begin_log\n",
        "cf_lr_find_scope = IPyExperimentsPytorch(cl_enable=False)"
      ],
      "execution_count": 0,
      "outputs": []
    },
    {
      "cell_type": "code",
      "metadata": {
        "id": "e8k1uFIeY2ah",
        "colab_type": "code",
        "outputId": "94b05819-c9d3-4c21-ee28-b68f7adfdf1a",
        "colab": {
          "base_uri": "https://localhost:8080/",
          "height": 62
        }
      },
      "source": [
        "fw_cf_dbnch = get_cf_databunch(FW_CF_DBNCH_FNAME, cf_bs)\n",
        "assert fw_cf_dbnch.train_dl.batch_size == cf_bs\n",
        "cf_epoch_sz = math.ceil(len(fw_cf_dbnch.train_ds) / cf_bs)\n",
        "ratio = 4 / 5\n",
        "epoch_scale = ratio * 0.3\n",
        "cf_num_it = math.ceil(cf_epoch_sz * epoch_scale)\n",
        "print(\n",
        "    f'cf_epoch_sz = {cf_epoch_sz}\\n'\n",
        "    f'cf_num_it   = {cf_num_it}')"
      ],
      "execution_count": 0,
      "outputs": [
        {
          "output_type": "stream",
          "text": [
            "cf_epoch_sz = 391\n",
            "cf_num_it   = 94\n"
          ],
          "name": "stdout"
        }
      ]
    },
    {
      "cell_type": "code",
      "metadata": {
        "id": "apd3mZaJZC4p",
        "colab_type": "code",
        "colab": {}
      },
      "source": [
        "lm_lr = 0.01125\n",
        "fw_enc_name = f'fw_enc-b{lm_bs}-bptt{bptt}-lr{lm_lr}'\n",
        "fw_cf_lrnr = new_cf_learner_with_encoder('new-fw_cf', fw_cf_dbnch, cf_drop_mult,\n",
        "                                         fw_enc_name, bptt)\n",
        "fw_cf_lrnr.path = COLAB_DATA_DIR"
      ],
      "execution_count": 0,
      "outputs": []
    },
    {
      "cell_type": "code",
      "metadata": {
        "id": "F1dWIw3xa0ms",
        "colab_type": "code",
        "outputId": "fe074200-e1ab-440f-91ed-1d4bc242804f",
        "colab": {
          "base_uri": "https://localhost:8080/",
          "height": 150
        }
      },
      "source": [
        "start_lr = 4e-3\n",
        "end_lr = round(start_lr * 20, 3)\n",
        "fw_cf_lrnr.lr_find(start_lr, end_lr, cf_num_it, wd=cf_wd)\n",
        "min_loss = np.min(fw_cf_lrnr.recorder.losses)\n",
        "min_loss_it = np.argmin(fw_cf_lrnr.recorder.losses) + 1\n",
        "end_loss = fw_cf_lrnr.recorder.losses[-1].item()\n",
        "print(f'lr range = [{start_lr}, {end_lr}]\\n'\n",
        "      f'min_loss = {min_loss} @ {min_loss_it}\\n'\n",
        "      f'end_loss = {end_loss} @ {cf_num_it}')"
      ],
      "execution_count": 0,
      "outputs": [
        {
          "output_type": "stream",
          "text": [
            "epoch     train_loss  valid_loss  accuracy  time    \n",
            "0         0.291489    #na#        00:13     \n",
            "LR Finder is complete, type {learner_name}.recorder.plot() to see the graph.\n",
            "lr range = [0.004, 0.08]\n",
            "min_loss = 0.27702632546424866 @ 68\n",
            "end_loss = 0.29148927330970764 @ 94\n"
          ],
          "name": "stdout"
        }
      ]
    },
    {
      "cell_type": "code",
      "metadata": {
        "id": "gtZnIS_TZOj3",
        "colab_type": "code",
        "colab": {}
      },
      "source": [
        "%%capture cf_lr_find_log\n",
        "fw_cf_lrnr.recorder.plot(skip_start=0, skip_end=0, suggestion=True)"
      ],
      "execution_count": 0,
      "outputs": []
    },
    {
      "cell_type": "code",
      "metadata": {
        "id": "Mf8szjJiL-XG",
        "colab_type": "code",
        "outputId": "9aa7a65d-954f-45ec-b5d8-171aac6d64d7",
        "colab": {
          "base_uri": "https://localhost:8080/",
          "height": 606
        }
      },
      "source": [
        "cf_lr_find_log()"
      ],
      "execution_count": 0,
      "outputs": [
        {
          "output_type": "stream",
          "text": [
            "Min numerical gradient: 4.26E-03\n",
            "Min loss divided by 10: 3.38E-03\n"
          ],
          "name": "stdout"
        },
        {
          "output_type": "display_data",
          "data": {
            "image/png": "[encoded data removed]",
            "text/plain": [
              "<Figure size 921.6x633.6 with 1 Axes>"
            ]
          },
          "metadata": {
            "tags": [],
            "image/png": {
              "width": 791,
              "height": 545
            }
          }
        }
      ]
    },
    {
      "cell_type": "code",
      "metadata": {
        "id": "aUpWGtGWZClJ",
        "colab_type": "code",
        "colab": {}
      },
      "source": [
        "cf_min_grad_lr = fw_cf_lrnr.recorder.min_grad_lr\n",
        "cf_min_loss_lr = fw_cf_lrnr.recorder.lrs[np.argmin(fw_cf_lrnr.recorder.losses)]\n",
        "((_, cf_min_grad_lr_str),\n",
        " (_, cf_min_loss_lr_dv10_str)\n",
        " ) = [line.split(': ') for line in cf_lr_find_log.stdout.split('\\n') if line]\n",
        "assert f'{cf_min_grad_lr:.2E}' == cf_min_grad_lr_str\n",
        "assert f'{cf_min_loss_lr/10:.2E}' == cf_min_loss_lr_dv10_str\n",
        "(fw_cf_lrnr.path/fw_cf_lrnr.model_dir/'tmp.pth').unlink()"
      ],
      "execution_count": 0,
      "outputs": []
    },
    {
      "cell_type": "code",
      "metadata": {
        "id": "SLCKbjzFa4cK",
        "colab_type": "code",
        "outputId": "14487280-5ef7-46de-da70-4633b72b0dc5",
        "colab": {
          "base_uri": "https://localhost:8080/",
          "height": 128
        }
      },
      "source": [
        "scale = min_loss_it / cf_num_it\n",
        "my_guess1_cf_lr = cf_min_loss_lr / (ratio * scale)\n",
        "my_guess2_cf_lr = start_lr * scale * 25\n",
        "print(\n",
        "    f'referred  cf_lr = {REFERRED_CF_LR}\\n'\n",
        "    f'min grad. cf_lr = {cf_min_grad_lr}\\n'\n",
        "    f'min loss  cf_lr = {cf_min_loss_lr}\\n'\n",
        "    f'my guess1 cf_lr = {my_guess1_cf_lr}\\n'\n",
        "    f'my guess2 cf_lr = {my_guess2_cf_lr}')"
      ],
      "execution_count": 0,
      "outputs": [
        {
          "output_type": "stream",
          "text": [
            "referred  cf_lr = 0.02666666666666667\n",
            "min grad. cf_lr = 0.0042632566739214724\n",
            "min loss  cf_lr = 0.03383684654982418\n",
            "my guess1 cf_lr = 0.05846808043535796\n",
            "my guess2 cf_lr = 0.0723404255319149\n"
          ],
          "name": "stdout"
        }
      ]
    },
    {
      "cell_type": "code",
      "metadata": {
        "id": "XXb7nkIplu-J",
        "colab_type": "code",
        "colab": {}
      },
      "source": [
        "%%capture cf_lr_find_scope_end_log\n",
        "cf_lr_find_scope.keep_var_names('my_guess1_cf_lr', 'my_guess2_cf_lr')\n",
        "del cf_lr_find_scope; gc.collect()"
      ],
      "execution_count": 0,
      "outputs": []
    },
    {
      "cell_type": "markdown",
      "metadata": {
        "id": "7tPvS0FSO1lj",
        "colab_type": "text"
      },
      "source": [
        "### Init-fit"
      ]
    },
    {
      "cell_type": "code",
      "metadata": {
        "id": "Pe813E3IluXW",
        "colab_type": "code",
        "outputId": "ab702c03-b77c-44c5-b6e6-1ddf0d61d62a",
        "colab": {
          "base_uri": "https://localhost:8080/",
          "height": 40
        }
      },
      "source": [
        "lm_lr = 0.01125\n",
        "fw_enc_name = f'fw_enc-b{lm_bs}-bptt{bptt}-lr{lm_lr}'\n",
        "\n",
        "cf_lr = 0.07234\n",
        "init_fw_cf_name = f'init_fw_cf-b{cf_bs}-bptt{bptt}-lr{cf_lr}_enc-b{lm_bs}-bptt{bptt}-lr{lm_lr}'\n",
        "print(f'designated cf_lr={cf_lr}')"
      ],
      "execution_count": 0,
      "outputs": [
        {
          "output_type": "stream",
          "text": [
            "designated cf_lr=0.07234\n"
          ],
          "name": "stdout"
        }
      ]
    },
    {
      "cell_type": "code",
      "metadata": {
        "id": "qC3kqw_I5auE",
        "colab_type": "code",
        "colab": {}
      },
      "source": [
        "%%capture init_fw_cf_scope_begin_log\n",
        "init_fw_cf_scope = IPyExperimentsPytorch(cl_enable=False)\n",
        "fw_cf_dbnch = get_cf_databunch(FW_CF_DBNCH_FNAME, cf_bs)\n",
        "fw_cf_lrnr = new_cf_learner_with_encoder('new-fw_cf', fw_cf_dbnch, cf_drop_mult,\n",
        "                                         fw_enc_name, bptt)"
      ],
      "execution_count": 0,
      "outputs": []
    },
    {
      "cell_type": "code",
      "metadata": {
        "id": "cDTlJW0gqgWT",
        "colab_type": "code",
        "outputId": "9ffcdc5b-ec68-4c0c-eb22-b622cdde2731",
        "colab": {
          "base_uri": "https://localhost:8080/",
          "height": 172
        }
      },
      "source": [
        "print(init_fw_cf_name)\n",
        "init_fw_cf_log_name = LOGS_DIR / f'{SESSN_START}-{init_fw_cf_name}'\n",
        "init_fw_cf_clbks = [CSVLogger(fw_cf_lrnr, init_fw_cf_log_name, True)]\n",
        "fw_cf_lrnr = fit_a_named_cycle(init_fw_cf_name, fw_cf_lrnr, cf_lr, moms, cf_wd,\n",
        "                               init_fw_cf_clbks, cyc_len=1, freeze_to=-1,\n",
        "                               prev_event_name='new-fw_cf')"
      ],
      "execution_count": 0,
      "outputs": [
        {
          "output_type": "stream",
          "text": [
            "init_fw_cf-b64-bptt70-lr0.07234_enc-b64-bptt70-lr0.01125\n",
            "Found init. loss_scale=65536\n",
            "No /content/gdrive/My Drive/imdb/data/cp-new-fw_cf.pkl to load!\n",
            "epoch     train_loss  valid_loss  accuracy  time    \n",
            "0         0.237411    0.180904    0.931880  01:38     \n",
            "Found MixedPrecision loss_scale=65536\n",
            "Checkpoint(name='init_fw_cf-b64-bptt70-lr0.07234_enc-b64-bptt70-lr0.01125', frozen_to=-1, mp_loss_scale=65536) saved to /content/gdrive/My Drive/imdb/data/cp-init_fw_cf-b64-bptt70-lr0.07234_enc-b64-bptt70-lr0.01125.pkl\n"
          ],
          "name": "stdout"
        }
      ]
    },
    {
      "cell_type": "code",
      "metadata": {
        "id": "fjWyQpAnPE5W",
        "colab_type": "code",
        "colab": {}
      },
      "source": [
        "%%capture init_fw_cf_scope_end_log\n",
        "del init_fw_cf_scope; gc.collect()"
      ],
      "execution_count": 0,
      "outputs": []
    },
    {
      "cell_type": "markdown",
      "metadata": {
        "id": "9CJYZDCaQ6hf",
        "colab_type": "text"
      },
      "source": [
        "### Fine-tune"
      ]
    },
    {
      "cell_type": "markdown",
      "metadata": {
        "id": "gKFddmm_9fMC",
        "colab_type": "text"
      },
      "source": [
        "#### Act-1"
      ]
    },
    {
      "cell_type": "code",
      "metadata": {
        "id": "kAXnpfmwvFDi",
        "colab_type": "code",
        "outputId": "038a7fe1-5b5e-41e7-84cb-a51f462c0223",
        "colab": {
          "base_uri": "https://localhost:8080/",
          "height": 40
        }
      },
      "source": [
        "lm_lr = 0.01125\n",
        "fw_enc_name = f'fw_enc-b{lm_bs}-bptt{bptt}-lr{lm_lr}'\n",
        "\n",
        "cf_lr = 0.07234\n",
        "init_fw_cf_name = f'init_fw_cf-b{cf_bs}-bptt{bptt}-lr{cf_lr}_enc-b{lm_bs}-bptt{bptt}-lr{lm_lr}'\n",
        "\n",
        "finer_cf_1_lr = cf_lr / 2\n",
        "finer_cf_1_lrs = slice(finer_cf_1_lr / (2.6 ** 4), finer_cf_1_lr)\n",
        "tune_fw_cf_1_name = f'tune_fw_cf-b{cf_bs}-bptt{bptt}-lr{finer_cf_1_lr}_enc-b{lm_bs}-bptt{bptt}-lr{lm_lr}'\n",
        "print(f'designated finer_cf_lr={finer_cf_1_lr}')"
      ],
      "execution_count": 0,
      "outputs": [
        {
          "output_type": "stream",
          "text": [
            "designated finer_cf_lr=0.03617\n"
          ],
          "name": "stdout"
        }
      ]
    },
    {
      "cell_type": "code",
      "metadata": {
        "id": "uBT8fTSkjcL4",
        "colab_type": "code",
        "colab": {}
      },
      "source": [
        "%%capture tune_fw_cf_1_scope_begin_log\n",
        "tune_fw_cf_1_scope = IPyExperimentsPytorch(cl_enable=False)\n",
        "fw_cf_dbnch = get_cf_databunch(FW_CF_DBNCH_FNAME, cf_bs)\n",
        "fw_cf_lrnr = new_cf_learner_with_encoder('new-fw_cf', fw_cf_dbnch, cf_drop_mult,\n",
        "                                         fw_enc_name, bptt)"
      ],
      "execution_count": 0,
      "outputs": []
    },
    {
      "cell_type": "code",
      "metadata": {
        "id": "N-PZHLOEqlRN",
        "colab_type": "code",
        "outputId": "2ead1622-2a92-47ee-8ca8-2159ea9c4de8",
        "colab": {
          "base_uri": "https://localhost:8080/",
          "height": 216
        }
      },
      "source": [
        "print(tune_fw_cf_1_name)\n",
        "tune_fw_cf_1_log_name = LOGS_DIR / f'{SESSN_START}-{tune_fw_cf_1_name}'\n",
        "tune_fw_cf_1_clbks = [CSVLogger(fw_cf_lrnr, tune_fw_cf_1_log_name, True)]\n",
        "fw_cf_lrnr = fit_a_named_cycle(tune_fw_cf_1_name, fw_cf_lrnr, finer_cf_1_lrs,\n",
        "                               moms, cf_wd, tune_fw_cf_1_clbks, cyc_len=1,\n",
        "                               freeze_to=-2, prev_event_name=init_fw_cf_name)"
      ],
      "execution_count": 0,
      "outputs": [
        {
          "output_type": "stream",
          "text": [
            "tune_fw_cf-b64-bptt70-lr0.03617_enc-b64-bptt70-lr0.01125\n",
            "Found init. loss_scale=65536\n",
            "Checkpoint(name='init_fw_cf-b64-bptt70-lr0.07234_enc-b64-bptt70-lr0.01125', frozen_to=-1, mp_loss_scale=65536) loaded from /content/gdrive/My Drive/imdb/data/cp-init_fw_cf-b64-bptt70-lr0.07234_enc-b64-bptt70-lr0.01125.pkl\n",
            "Frozen to -1\n",
            "Retained mb_loss_scale=65536\n",
            "epoch     train_loss  valid_loss  accuracy  time    \n",
            "0         0.195903    0.157349    0.942600  01:55     \n",
            "Found MixedPrecision loss_scale=65536\n",
            "Checkpoint(name='tune_fw_cf-b64-bptt70-lr0.03617_enc-b64-bptt70-lr0.01125', frozen_to=-2, mp_loss_scale=65536) saved to /content/gdrive/My Drive/imdb/data/cp-tune_fw_cf-b64-bptt70-lr0.03617_enc-b64-bptt70-lr0.01125.pkl\n"
          ],
          "name": "stdout"
        }
      ]
    },
    {
      "cell_type": "code",
      "metadata": {
        "id": "hFapoFlVKCDE",
        "colab_type": "code",
        "colab": {}
      },
      "source": [
        "%%capture tune_fw_cf_1_scope_end_log\n",
        "del tune_fw_cf_1_scope; gc.collect()"
      ],
      "execution_count": 0,
      "outputs": []
    },
    {
      "cell_type": "markdown",
      "metadata": {
        "id": "Sg2n_jDD9h-I",
        "colab_type": "text"
      },
      "source": [
        "#### Act-2"
      ]
    },
    {
      "cell_type": "code",
      "metadata": {
        "id": "SAocmJ62KBwX",
        "colab_type": "code",
        "outputId": "7f65dcae-2806-412a-fd1d-235819953dea",
        "colab": {
          "base_uri": "https://localhost:8080/",
          "height": 40
        }
      },
      "source": [
        "lm_lr = 0.01125\n",
        "fw_enc_name = f'fw_enc-b{lm_bs}-bptt{bptt}-lr{lm_lr}'\n",
        "\n",
        "cf_lr = 0.07234\n",
        "finer_cf_1_lr = cf_lr / 2\n",
        "tune_fw_cf_1_name = f'tune_fw_cf-b{cf_bs}-bptt{bptt}-lr{finer_cf_1_lr}_enc-b{lm_bs}-bptt{bptt}-lr{lm_lr}'\n",
        "\n",
        "finer_cf_2_lr = cf_lr / (2 * 2)\n",
        "finer_cf_2_lrs = slice(finer_cf_2_lr / (2.6 ** 4), finer_cf_2_lr)\n",
        "tune_fw_cf_2_name = f'tune_fw_cf-b{cf_bs}-bptt{bptt}-lr{finer_cf_2_lr}_enc-b{lm_bs}-bptt{bptt}-lr{lm_lr}'\n",
        "print(f'designated finer_cf_lr={finer_cf_2_lr}')"
      ],
      "execution_count": 0,
      "outputs": [
        {
          "output_type": "stream",
          "text": [
            "designated finer_cf_lr=0.018085\n"
          ],
          "name": "stdout"
        }
      ]
    },
    {
      "cell_type": "code",
      "metadata": {
        "id": "dU2dZ8dcR7jV",
        "colab_type": "code",
        "colab": {}
      },
      "source": [
        "%%capture tune_fw_cf_2_scope_begin_log\n",
        "tune_fw_cf_2_scope = IPyExperimentsPytorch(cl_enable=False)\n",
        "fw_cf_dbnch = get_cf_databunch(FW_CF_DBNCH_FNAME, cf_bs)\n",
        "fw_cf_lrnr = new_cf_learner_with_encoder('new-fw_cf', fw_cf_dbnch, cf_drop_mult,\n",
        "                                         fw_enc_name, bptt)"
      ],
      "execution_count": 0,
      "outputs": []
    },
    {
      "cell_type": "code",
      "metadata": {
        "id": "mvCliEWmqWL8",
        "colab_type": "code",
        "outputId": "a6d5a020-c5fa-4062-c1cf-15e8f804d526",
        "colab": {
          "base_uri": "https://localhost:8080/",
          "height": 216
        }
      },
      "source": [
        "print(tune_fw_cf_2_name)\n",
        "tune_fw_cf_2_log_name = LOGS_DIR / f'{SESSN_START}-{tune_fw_cf_2_name}'\n",
        "tune_fw_cf_2_clbks = [CSVLogger(fw_cf_lrnr, tune_fw_cf_2_log_name, True)]\n",
        "fw_cf_lrnr = fit_a_named_cycle(tune_fw_cf_2_name, fw_cf_lrnr, finer_cf_2_lrs,\n",
        "                               moms, cf_wd, tune_fw_cf_2_clbks, cyc_len=1,\n",
        "                               freeze_to=-3, prev_event_name=tune_fw_cf_1_name)"
      ],
      "execution_count": 0,
      "outputs": [
        {
          "output_type": "stream",
          "text": [
            "tune_fw_cf-b64-bptt70-lr0.018085_enc-b64-bptt70-lr0.01125\n",
            "Found init. loss_scale=65536\n",
            "Checkpoint(name='tune_fw_cf-b64-bptt70-lr0.03617_enc-b64-bptt70-lr0.01125', frozen_to=-2, mp_loss_scale=65536) loaded from /content/gdrive/My Drive/imdb/data/cp-tune_fw_cf-b64-bptt70-lr0.03617_enc-b64-bptt70-lr0.01125.pkl\n",
            "Frozen to -2\n",
            "Retained mb_loss_scale=65536\n",
            "epoch     train_loss  valid_loss  accuracy  time    \n",
            "0         0.180266    0.140276    0.948160  02:25     \n",
            "Found MixedPrecision loss_scale=65536\n",
            "Checkpoint(name='tune_fw_cf-b64-bptt70-lr0.018085_enc-b64-bptt70-lr0.01125', frozen_to=-3, mp_loss_scale=65536) saved to /content/gdrive/My Drive/imdb/data/cp-tune_fw_cf-b64-bptt70-lr0.018085_enc-b64-bptt70-lr0.01125.pkl\n"
          ],
          "name": "stdout"
        }
      ]
    },
    {
      "cell_type": "code",
      "metadata": {
        "id": "FBm_C0E1SkrQ",
        "colab_type": "code",
        "colab": {}
      },
      "source": [
        "%%capture tune_fw_cf_2_scope_end_log\n",
        "del tune_fw_cf_2_scope; gc.collect()"
      ],
      "execution_count": 0,
      "outputs": []
    },
    {
      "cell_type": "markdown",
      "metadata": {
        "id": "k_7WWgsT9me3",
        "colab_type": "text"
      },
      "source": [
        "#### Act-3"
      ]
    },
    {
      "cell_type": "code",
      "metadata": {
        "id": "plTUEU6Ce3-T",
        "colab_type": "code",
        "outputId": "b378e7f5-29f7-44b7-a378-f8f56cf947ea",
        "colab": {
          "base_uri": "https://localhost:8080/",
          "height": 40
        }
      },
      "source": [
        "lm_lr = 0.01125\n",
        "fw_enc_name = f'fw_enc-b{lm_bs}-bptt{bptt}-lr{lm_lr}'\n",
        "\n",
        "cf_lr = 0.07234\n",
        "finer_cf_2_lr = cf_lr / (2 * 2)\n",
        "tune_fw_cf_2_name = f'tune_fw_cf-b{cf_bs}-bptt{bptt}-lr{finer_cf_2_lr}_enc-b{lm_bs}-bptt{bptt}-lr{lm_lr}'\n",
        "\n",
        "finer_cf_3_lr = round(cf_lr / (2 * 2 * 5), 6)\n",
        "finer_cf_3_lrs = slice(finer_cf_3_lr / (2.6 ** 4), finer_cf_3_lr)\n",
        "tune_fw_cf_3_name = f'tune_fw_cf-b{cf_bs}-bptt{bptt}-lr{finer_cf_3_lr}_enc-b{lm_bs}-bptt{bptt}-lr{lm_lr}'\n",
        "print(f'designated finer_cf_lr={finer_cf_3_lr}')"
      ],
      "execution_count": 0,
      "outputs": [
        {
          "output_type": "stream",
          "text": [
            "designated finer_cf_lr=0.003617\n"
          ],
          "name": "stdout"
        }
      ]
    },
    {
      "cell_type": "code",
      "metadata": {
        "id": "TDc-iSnZe3x2",
        "colab_type": "code",
        "colab": {}
      },
      "source": [
        "%%capture tune_fw_cf_3_scope_begin_log\n",
        "tune_fw_cf_3_scope = IPyExperimentsPytorch(cl_enable=False)\n",
        "fw_cf_dbnch = get_cf_databunch(FW_CF_DBNCH_FNAME, cf_bs)\n",
        "fw_cf_lrnr = new_cf_learner_with_encoder('new-fw_cf', fw_cf_dbnch, cf_drop_mult,\n",
        "                                         fw_enc_name, bptt)"
      ],
      "execution_count": 0,
      "outputs": []
    },
    {
      "cell_type": "code",
      "metadata": {
        "id": "OWPB0FNeqqVi",
        "colab_type": "code",
        "outputId": "4448f511-9f62-4178-d5f5-0614bace8b8e",
        "colab": {
          "base_uri": "https://localhost:8080/",
          "height": 238
        }
      },
      "source": [
        "print(tune_fw_cf_3_name)\n",
        "tune_fw_cf_3_log_name = LOGS_DIR / f'{SESSN_START}-{tune_fw_cf_3_name}'\n",
        "tune_fw_cf_3_clbks = [CSVLogger(fw_cf_lrnr, tune_fw_cf_3_log_name, True)]\n",
        "fw_cf_lrnr = fit_a_named_cycle(tune_fw_cf_3_name, fw_cf_lrnr, finer_cf_3_lrs,\n",
        "                               moms, cf_wd, tune_fw_cf_3_clbks, cyc_len=2,\n",
        "                               freeze_to=0, prev_event_name=tune_fw_cf_2_name)"
      ],
      "execution_count": 0,
      "outputs": [
        {
          "output_type": "stream",
          "text": [
            "tune_fw_cf-b64-bptt70-lr0.003617_enc-b64-bptt70-lr0.01125\n",
            "Found init. loss_scale=65536\n",
            "Checkpoint(name='tune_fw_cf-b64-bptt70-lr0.018085_enc-b64-bptt70-lr0.01125', frozen_to=-3, mp_loss_scale=65536) loaded from /content/gdrive/My Drive/imdb/data/cp-tune_fw_cf-b64-bptt70-lr0.018085_enc-b64-bptt70-lr0.01125.pkl\n",
            "Frozen to -3\n",
            "Retained mb_loss_scale=65536\n",
            "epoch     train_loss  valid_loss  accuracy  time    \n",
            "0         0.122708    0.151304    0.948120  02:49     \n",
            "1         0.073715    0.153107    0.948840  03:03     \n",
            "Found MixedPrecision loss_scale=32768.0\n",
            "Checkpoint(name='tune_fw_cf-b64-bptt70-lr0.003617_enc-b64-bptt70-lr0.01125', frozen_to=0, mp_loss_scale=32768.0) saved to /content/gdrive/My Drive/imdb/data/cp-tune_fw_cf-b64-bptt70-lr0.003617_enc-b64-bptt70-lr0.01125.pkl\n"
          ],
          "name": "stdout"
        }
      ]
    },
    {
      "cell_type": "code",
      "metadata": {
        "id": "AuJCtsfre3P1",
        "colab_type": "code",
        "colab": {}
      },
      "source": [
        "%%capture tune_fw_cf_3_scope_end_log\n",
        "del tune_fw_cf_3_scope\n",
        "gc.collect()"
      ],
      "execution_count": 0,
      "outputs": []
    },
    {
      "cell_type": "markdown",
      "metadata": {
        "id": "wHXVFNpK-ioI",
        "colab_type": "text"
      },
      "source": [
        "## Backward LM"
      ]
    },
    {
      "cell_type": "code",
      "metadata": {
        "id": "QhP0h1Xd-mbr",
        "colab_type": "code",
        "colab": {}
      },
      "source": [
        "if not (DATA_DIR / FW_LM_DBNCH_FNAME).exists():\n",
        "  fw_lm_dbnch = set_lm_databunch(FW_LM_DBNCH_FNAME, lm_bs, bptt)\n",
        "  print(f'Built and saved {DATA_DIR / FW_LM_DBNCH_FNAME}')\n",
        "  fw_lm_dbnch.vocab.save(VOCAB_FILE)\n",
        "  print(f'Saved {VOCAB_FILE}')  "
      ],
      "execution_count": 0,
      "outputs": []
    },
    {
      "cell_type": "code",
      "metadata": {
        "colab_type": "code",
        "id": "bp3phunULiki",
        "colab": {}
      },
      "source": [
        "lm_lr = 0.01\n",
        "init_bw_lm_name = f'init_bw_lm-b{lm_bs}-bptt{bptt}-lr{lm_lr}'"
      ],
      "execution_count": 0,
      "outputs": []
    },
    {
      "cell_type": "code",
      "metadata": {
        "colab_type": "code",
        "id": "4KDYPjq0Likm",
        "colab": {}
      },
      "source": [
        "%%capture init_lm_scope_begin_log\n",
        "init_lm_scope = IPyExperimentsPytorch(cl_enable=False)\n",
        "bw_lm_dbnch = get_lm_databunch(FW_LM_DBNCH_FNAME, lm_bs, bptt, backwards=True)\n",
        "bw_lm_lrnr = new_lm_learner_with_ulmfit('new-bw_lm', bw_lm_dbnch, lm_drop_mult)"
      ],
      "execution_count": 0,
      "outputs": []
    },
    {
      "cell_type": "code",
      "metadata": {
        "id": "YEVHEZgDu1uU",
        "colab_type": "code",
        "outputId": "84ba6025-92b9-40be-9deb-3eb4d380e83c",
        "colab": {
          "base_uri": "https://localhost:8080/",
          "height": 172
        }
      },
      "source": [
        "print(init_bw_lm_name)\n",
        "init_bw_lm_log_name = LOGS_DIR / f'{SESSN_START}-{init_bw_lm_name}'\n",
        "init_bw_lm_clbks = [CSVLogger(bw_lm_lrnr, init_bw_lm_log_name, append=True)]\n",
        "bw_lm_lrnr = fit_a_named_cycle(init_bw_lm_name, bw_lm_lrnr, lm_lr, moms, lm_wd,\n",
        "                               init_bw_lm_clbks, cyc_len=1, freeze_to=-1,\n",
        "                               prev_event_name='new-bw_lm')"
      ],
      "execution_count": 0,
      "outputs": [
        {
          "output_type": "stream",
          "text": [
            "init_bw_lm-b64-bptt70-lr0.01\n",
            "Found init. loss_scale=65536\n",
            "No /content/gdrive/My Drive/imdb/data/cp-new-bw_lm.pkl to load!\n",
            "epoch     train_loss  valid_loss  accuracy  time    \n",
            "0         4.430530    4.088774    0.323355  17:11     \n",
            "Found MixedPrecision loss_scale=2097152.0\n",
            "Checkpoint(name='init_bw_lm-b64-bptt70-lr0.01', frozen_to=-1, mp_loss_scale=2097152.0) saved to /content/gdrive/My Drive/imdb/data/cp-init_bw_lm-b64-bptt70-lr0.01.pkl\n"
          ],
          "name": "stdout"
        }
      ]
    },
    {
      "cell_type": "code",
      "metadata": {
        "id": "AseLa6Z6eWZv",
        "colab_type": "code",
        "colab": {}
      },
      "source": [
        "%%capture init_lm_scope_end_log\n",
        "del init_lm_scope\n",
        "gc.collect()"
      ],
      "execution_count": 0,
      "outputs": []
    },
    {
      "cell_type": "code",
      "metadata": {
        "colab_type": "code",
        "id": "O2dtSQlUmjPZ",
        "outputId": "f8ee3077-b0f3-4d9e-d74e-0175f47f4d1f",
        "colab": {
          "base_uri": "https://localhost:8080/",
          "height": 40
        }
      },
      "source": [
        "lm_lr = 0.01\n",
        "init_bw_lm_name = f'init_bw_lm-b{lm_bs}-bptt{bptt}-lr{lm_lr}'\n",
        "\n",
        "bw_enc_name = f'bw_enc-b{lm_bs}-bptt{bptt}-lr{lm_lr}'\n",
        "\n",
        "tune_lm_lr = round(lm_lr/10, 6)\n",
        "tune_bw_lm_name = f'tune_bw_lm-b{lm_bs}-bptt{bptt}-lr{tune_lm_lr}'\n",
        "tune_lm_lr"
      ],
      "execution_count": 0,
      "outputs": [
        {
          "output_type": "execute_result",
          "data": {
            "text/plain": [
              "0.001"
            ]
          },
          "metadata": {
            "tags": []
          },
          "execution_count": 327
        }
      ]
    },
    {
      "cell_type": "code",
      "metadata": {
        "colab_type": "code",
        "id": "FGGDP7zJmjPn",
        "colab": {}
      },
      "source": [
        "%%capture tune_lm_scope_begin_log\n",
        "tune_lm_scope = IPyExperimentsPytorch(cl_enable=False)\n",
        "bw_lm_dbnch = get_lm_databunch(FW_LM_DBNCH_FNAME, lm_bs, bptt, backwards=True)\n",
        "bw_lm_lrnr = new_lm_learner_with_ulmfit('new-bw_lm', bw_lm_dbnch, lm_drop_mult)"
      ],
      "execution_count": 0,
      "outputs": []
    },
    {
      "cell_type": "code",
      "metadata": {
        "id": "zgiCvxjOu-pb",
        "colab_type": "code",
        "outputId": "a859f635-a1d6-4641-ba82-3817f83a9a06",
        "colab": {
          "base_uri": "https://localhost:8080/",
          "height": 414
        }
      },
      "source": [
        "print(tune_bw_lm_name)\n",
        "tune_bw_lm_log_name = LOGS_DIR / f'{SESSN_START}-{tune_bw_lm_name}'\n",
        "tune_bw_lm_clbks = [CSVLogger(bw_lm_lrnr, tune_bw_lm_log_name, append=True)]\n",
        "bw_lm_lrnr = fit_a_named_cycle(tune_bw_lm_name, bw_lm_lrnr, tune_lm_lr, moms,\n",
        "                               lm_wd, tune_bw_lm_clbks, cyc_len=10, freeze_to=0,\n",
        "                               prev_event_name=init_bw_lm_name)\n",
        "bw_lm_lrnr.save_encoder(bw_enc_name)"
      ],
      "execution_count": 0,
      "outputs": [
        {
          "output_type": "stream",
          "text": [
            "tune_bw_lm-b64-bptt70-lr0.001\n",
            "Found init. loss_scale=65536\n",
            "Checkpoint(name='init_bw_lm-b64-bptt70-lr0.01', frozen_to=-1, mp_loss_scale=2097152.0) loaded from /content/gdrive/My Drive/imdb/data/cp-init_bw_lm-b64-bptt70-lr0.01.pkl\n",
            "Frozen to -1\n",
            "Retained mb_loss_scale=2097152.0\n",
            "epoch     train_loss  valid_loss  accuracy  time    \n",
            "0         4.139020    3.909299    0.342562  19:14     \n",
            "1         4.023977    3.837232    0.351800  19:14     \n",
            "2         3.993114    3.801412    0.356898  19:14     \n",
            "3         3.927130    3.760121    0.361401  19:14     \n",
            "4         3.902025    3.729016    0.364868  19:14     \n",
            "5         3.840148    3.703532    0.367997  19:14     \n",
            "6         3.799663    3.679397    0.370541  19:14     \n",
            "7         3.751141    3.662572    0.372433  19:14     \n",
            "8         3.744811    3.653554    0.373469  19:14     \n",
            "9         3.711873    3.651567    0.373691  19:14     \n",
            "Found MixedPrecision loss_scale=4194304.0\n",
            "Checkpoint(name='tune_bw_lm-b64-bptt70-lr0.001', frozen_to=0, mp_loss_scale=4194304.0) saved to /content/gdrive/My Drive/imdb/data/cp-tune_bw_lm-b64-bptt70-lr0.001.pkl\n"
          ],
          "name": "stdout"
        }
      ]
    },
    {
      "cell_type": "code",
      "metadata": {
        "id": "pKqFeTGKn2Yx",
        "colab_type": "code",
        "colab": {}
      },
      "source": [
        "%%capture tune_lm_scope_end_log\n",
        "del tune_lm_scope\n",
        "gc.collect()"
      ],
      "execution_count": 0,
      "outputs": []
    },
    {
      "cell_type": "markdown",
      "metadata": {
        "id": "4-hoCyr3-qBS",
        "colab_type": "text"
      },
      "source": [
        "## Backward CF"
      ]
    },
    {
      "cell_type": "code",
      "metadata": {
        "id": "zrP_-kGk-sUx",
        "colab_type": "code",
        "outputId": "cbafd8ed-8989-4c53-b992-ec66a23a1900",
        "colab": {
          "base_uri": "https://localhost:8080/",
          "height": 40
        }
      },
      "source": [
        "lm_lr = 0.01125\n",
        "bw_enc_name = f'bw_enc-b{lm_bs}-bptt{bptt}-lr{lm_lr}'\n",
        "\n",
        "cf_lr = 0.07234\n",
        "init_bw_cf_name = f'init_bw_cf-b{cf_bs}-bptt{bptt}-lr{cf_lr}_enc-b{lm_bs}-bptt{bptt}-lr{lm_lr}'\n",
        "print(f'designated cf_lr={cf_lr}')"
      ],
      "execution_count": 0,
      "outputs": [
        {
          "output_type": "stream",
          "text": [
            "designated cf_lr=0.07234\n"
          ],
          "name": "stdout"
        }
      ]
    },
    {
      "cell_type": "code",
      "metadata": {
        "colab_type": "code",
        "id": "HqJvhwsVolzv",
        "colab": {}
      },
      "source": [
        "%%capture init_bw_cf_scope_begin_log\n",
        "init_bw_cf_scope = IPyExperimentsPytorch(cl_enable=False)\n",
        "bw_cf_dbnch = get_cf_databunch(FW_CF_DBNCH_FNAME, cf_bs, backwards=True)\n",
        "bw_cf_lrnr = new_cf_learner_with_encoder('new-bw_cf', bw_cf_dbnch, cf_drop_mult,\n",
        "                                         bw_enc_name, bptt)"
      ],
      "execution_count": 0,
      "outputs": []
    },
    {
      "cell_type": "code",
      "metadata": {
        "id": "g4PmIsv8nbK8",
        "colab_type": "code",
        "outputId": "34bd957d-bb86-4282-d497-d464ba8081a9",
        "colab": {
          "base_uri": "https://localhost:8080/",
          "height": 172
        }
      },
      "source": [
        "print(init_bw_cf_name)\n",
        "init_bw_cf_log_name = LOGS_DIR / f'{SESSN_START}-{init_bw_cf_name}'\n",
        "init_bw_cf_clbks = [CSVLogger(bw_cf_lrnr, init_bw_cf_log_name, True)]\n",
        "bw_cf_lrnr = fit_a_named_cycle(init_bw_cf_name, bw_cf_lrnr, cf_lr,\n",
        "                                    moms, cf_wd, init_bw_cf_clbks, cyc_len=1,\n",
        "                                    freeze_to=-1, prev_event_name='new-bw_cf')"
      ],
      "execution_count": 0,
      "outputs": [
        {
          "output_type": "stream",
          "text": [
            "init_bw_cf-b64-bptt70-lr0.07234_enc-b64-bptt70-lr0.01125\n",
            "Found init. loss_scale=65536\n",
            "No /content/gdrive/My Drive/imdb/data/cp-new-bw_cf.pkl to load!\n",
            "epoch     train_loss  valid_loss  accuracy  time    \n",
            "0         0.290525    0.214515    0.919880  01:38     \n",
            "Found MixedPrecision loss_scale=65536\n",
            "Checkpoint(name='init_bw_cf-b64-bptt70-lr0.07234_enc-b64-bptt70-lr0.01125', frozen_to=-1, mp_loss_scale=65536) saved to /content/gdrive/My Drive/imdb/data/cp-init_bw_cf-b64-bptt70-lr0.07234_enc-b64-bptt70-lr0.01125.pkl\n"
          ],
          "name": "stdout"
        }
      ]
    },
    {
      "cell_type": "code",
      "metadata": {
        "colab_type": "code",
        "id": "j4c3YTumolz4",
        "colab": {}
      },
      "source": [
        "%%capture init_bw_cf_scope_end_log\n",
        "del init_bw_cf_scope\n",
        "gc.collect()"
      ],
      "execution_count": 0,
      "outputs": []
    },
    {
      "cell_type": "code",
      "metadata": {
        "colab_type": "code",
        "id": "ubQWJn9WpfkE",
        "colab": {}
      },
      "source": [
        "lm_lr = 0.01125\n",
        "bw_enc_name = f'bw_enc-b{lm_bs}-bptt{bptt}-lr{lm_lr}'\n",
        "\n",
        "cf_lr = 0.07234\n",
        "init_bw_cf_name = f'init_bw_cf-b{cf_bs}-bptt{bptt}-lr{cf_lr}_enc-b{lm_bs}-bptt{bptt}-lr{lm_lr}'\n",
        "tune_bw_cf_name = f'tune_bw_cf-b{cf_bs}-bptt{bptt}-lr{cf_lr}_enc-b{lm_bs}-bptt{bptt}-lr{lm_lr}'"
      ],
      "execution_count": 0,
      "outputs": []
    },
    {
      "cell_type": "code",
      "metadata": {
        "colab_type": "code",
        "id": "HT74CzhRpfkJ",
        "colab": {}
      },
      "source": [
        "%%capture tune_bw_cf_scope_begin_log\n",
        "tune_bw_cf_scope = IPyExperimentsPytorch(cl_enable=False)\n",
        "bw_cf_dbnch = get_cf_databunch(FW_CF_DBNCH_FNAME, cf_bs, backwards=True)\n",
        "bw_cf_lrnr = new_cf_learner_with_encoder('new-bw_cf', bw_cf_dbnch, cf_drop_mult,\n",
        "                                         bw_enc_name, bptt)"
      ],
      "execution_count": 0,
      "outputs": []
    },
    {
      "cell_type": "code",
      "metadata": {
        "id": "quqBlxyenfJP",
        "colab_type": "code",
        "outputId": "343b9852-5494-4073-e873-1e8c5f8e649e",
        "colab": {
          "base_uri": "https://localhost:8080/",
          "height": 656
        }
      },
      "source": [
        "print(tune_bw_cf_name)\n",
        "tune_bw_cf_log_name = LOGS_DIR / f'{SESSN_START}-{tune_bw_cf_name}'\n",
        "tune_bw_cf_clbks = [CSVLogger(bw_cf_lrnr, tune_bw_cf_log_name, True)]\n",
        "\n",
        "finer_cf_1_lr = cf_lr / 2\n",
        "print(finer_cf_1_lr)\n",
        "cf_lrs = slice(finer_cf_1_lr / (2.6 ** 4), finer_cf_1_lr)\n",
        "bw_cf_lrnr = fit_a_named_cycle(tune_bw_cf_name, bw_cf_lrnr, cf_lrs, moms, cf_wd,\n",
        "                               tune_bw_cf_clbks, cyc_len=1, freeze_to=-2,\n",
        "                               prev_event_name=init_bw_cf_name)\n",
        "\n",
        "finer_cf_2_lr = cf_lr / 2 / 2\n",
        "print(finer_cf_2_lr)\n",
        "cf_lrs = slice(finer_cf_2_lr / (2.6 ** 4), finer_cf_2_lr)\n",
        "bw_cf_lrnr = fit_a_named_cycle(tune_bw_cf_name, bw_cf_lrnr, cf_lrs, moms, cf_wd,\n",
        "                               tune_bw_cf_clbks, cyc_len=1, freeze_to=-3,\n",
        "                               prev_event_name=tune_bw_cf_name)\n",
        "\n",
        "finer_cf_3_lr = round(cf_lr / 2 / 2 / 5, 6)\n",
        "print(finer_cf_3_lr)\n",
        "cf_lrs = slice(finer_cf_3_lr / (2.6 ** 4), finer_cf_3_lr)\n",
        "bw_cf_lrnr = fit_a_named_cycle(tune_bw_cf_name, bw_cf_lrnr, cf_lrs, moms, cf_wd,\n",
        "                               tune_bw_cf_clbks, cyc_len=2, freeze_to=0,\n",
        "                               prev_event_name=tune_bw_cf_name)"
      ],
      "execution_count": 0,
      "outputs": [
        {
          "output_type": "stream",
          "text": [
            "tune_bw_cf-b64-bptt70-lr0.07234_enc-b64-bptt70-lr0.01125\n",
            "0.03617\n",
            "Found init. loss_scale=65536\n",
            "Checkpoint(name='init_bw_cf-b64-bptt70-lr0.07234_enc-b64-bptt70-lr0.01125', frozen_to=-1, mp_loss_scale=65536) loaded from /content/gdrive/My Drive/imdb/data/cp-init_bw_cf-b64-bptt70-lr0.07234_enc-b64-bptt70-lr0.01125.pkl\n",
            "Frozen to -1\n",
            "Retained mb_loss_scale=65536\n",
            "epoch     train_loss  valid_loss  accuracy  time    \n",
            "0         0.210443    0.161169    0.942480  01:56     \n",
            "Found MixedPrecision loss_scale=65536\n",
            "Checkpoint(name='tune_bw_cf-b64-bptt70-lr0.07234_enc-b64-bptt70-lr0.01125', frozen_to=-2, mp_loss_scale=65536) saved to /content/gdrive/My Drive/imdb/data/cp-tune_bw_cf-b64-bptt70-lr0.07234_enc-b64-bptt70-lr0.01125.pkl\n",
            "0.018085\n",
            "Found init. loss_scale=65536\n",
            "Checkpoint(name='tune_bw_cf-b64-bptt70-lr0.07234_enc-b64-bptt70-lr0.01125', frozen_to=-2, mp_loss_scale=65536) loaded from /content/gdrive/My Drive/imdb/data/cp-tune_bw_cf-b64-bptt70-lr0.07234_enc-b64-bptt70-lr0.01125.pkl\n",
            "Frozen to -2\n",
            "Retained mb_loss_scale=65536\n",
            "epoch     train_loss  valid_loss  accuracy  time    \n",
            "0         0.192305    0.151440    0.945640  02:24     \n",
            "Found MixedPrecision loss_scale=32768.0\n",
            "Checkpoint(name='tune_bw_cf-b64-bptt70-lr0.07234_enc-b64-bptt70-lr0.01125', frozen_to=-3, mp_loss_scale=32768.0) saved to /content/gdrive/My Drive/imdb/data/cp-tune_bw_cf-b64-bptt70-lr0.07234_enc-b64-bptt70-lr0.01125.pkl\n",
            "0.003617\n",
            "Found init. loss_scale=32768.0\n",
            "Checkpoint(name='tune_bw_cf-b64-bptt70-lr0.07234_enc-b64-bptt70-lr0.01125', frozen_to=-3, mp_loss_scale=32768.0) loaded from /content/gdrive/My Drive/imdb/data/cp-tune_bw_cf-b64-bptt70-lr0.07234_enc-b64-bptt70-lr0.01125.pkl\n",
            "Frozen to -3\n",
            "Retained mb_loss_scale=32768.0\n",
            "epoch     train_loss  valid_loss  accuracy  time    \n",
            "0         0.137555    0.149634    0.947200  02:48     \n",
            "1         0.087071    0.159235    0.947920  03:03     \n",
            "Found MixedPrecision loss_scale=16384.0\n",
            "Checkpoint(name='tune_bw_cf-b64-bptt70-lr0.07234_enc-b64-bptt70-lr0.01125', frozen_to=0, mp_loss_scale=16384.0) saved to /content/gdrive/My Drive/imdb/data/cp-tune_bw_cf-b64-bptt70-lr0.07234_enc-b64-bptt70-lr0.01125.pkl\n"
          ],
          "name": "stdout"
        }
      ]
    },
    {
      "cell_type": "code",
      "metadata": {
        "id": "M6EkkUVvPaeG",
        "colab_type": "code",
        "colab": {}
      },
      "source": [
        "%%capture tune_bw_cf_scope_end_log\n",
        "del tune_bw_cf_scope\n",
        "gc.collect()"
      ],
      "execution_count": 0,
      "outputs": []
    },
    {
      "cell_type": "markdown",
      "metadata": {
        "id": "-5jXi1C4y5BT",
        "colab_type": "text"
      },
      "source": [
        "# Ensemble"
      ]
    },
    {
      "cell_type": "code",
      "metadata": {
        "id": "wZHHvpyAniU7",
        "colab_type": "code",
        "outputId": "20d9ec15-0a8d-4b75-f851-66ce1bf1164e",
        "colab": {
          "base_uri": "https://localhost:8080/",
          "height": 106
        }
      },
      "source": [
        "lm_lr = 0.01125\n",
        "fw_enc_name = f'fw_enc-b{lm_bs}-bptt{bptt}-lr{lm_lr}'\n",
        "\n",
        "cf_lr = 0.07234\n",
        "finer_cf_3_lr = round(cf_lr / (2 * 2 * 5), 6)\n",
        "tune_fw_cf_3_name = f'tune_fw_cf-b{cf_bs}-bptt{bptt}-lr{finer_cf_3_lr}_enc-b{lm_bs}-bptt{bptt}-lr{lm_lr}'\n",
        "\n",
        "fw_cf_dbnch = get_cf_databunch(FW_CF_DBNCH_FNAME, cf_bs)\n",
        "fw_cf_lrnr = new_cf_learner_with_encoder('new-fw_cf', fw_cf_dbnch, cf_drop_mult,\n",
        "                                         fw_enc_name, bptt)\n",
        "\n",
        "set_prng_states(load_prng_states(tune_fw_cf_3_name))\n",
        "fw_cf_lrnr = retain_event(tune_fw_cf_3_name, fw_cf_lrnr)\n",
        "fw_preds, tgt_lbls = fw_cf_lrnr.get_preds(ordered=True)\n",
        "accuracy(fw_preds, tgt_lbls)"
      ],
      "execution_count": 0,
      "outputs": [
        {
          "output_type": "stream",
          "text": [
            "Checkpoint(name='tune_fw_cf-b64-bptt70-lr0.003617_enc-b64-bptt70-lr0.01125', frozen_to=0, mp_loss_scale=32768.0) loaded from /content/gdrive/My Drive/imdb/data/cp-tune_fw_cf-b64-bptt70-lr0.003617_enc-b64-bptt70-lr0.01125.pkl\n",
            "Frozen to 0\n",
            "Retained mb_loss_scale=32768.0\n"
          ],
          "name": "stdout"
        },
        {
          "output_type": "execute_result",
          "data": {
            "text/plain": [
              "tensor(0.9488)"
            ]
          },
          "metadata": {
            "tags": []
          },
          "execution_count": 392
        }
      ]
    },
    {
      "cell_type": "code",
      "metadata": {
        "id": "wi2p14TrnkUj",
        "colab_type": "code",
        "outputId": "0056515c-ef76-4d04-9efd-6b7132345938",
        "colab": {
          "base_uri": "https://localhost:8080/",
          "height": 106
        }
      },
      "source": [
        "lm_lr = 0.01125\n",
        "bw_enc_name = f'bw_enc-b{lm_bs}-bptt{bptt}-lr{lm_lr}'\n",
        "\n",
        "cf_lr = 0.07234\n",
        "tune_bw_cf_name = f'tune_bw_cf-b{cf_bs}-bptt{bptt}-lr{cf_lr}_enc-b{lm_bs}-bptt{bptt}-lr{lm_lr}'\n",
        "\n",
        "bw_cf_dbnch = get_cf_databunch(FW_CF_DBNCH_FNAME, cf_bs, backwards=True)\n",
        "bw_cf_lrnr = new_cf_learner_with_encoder('new-bw_cf', bw_cf_dbnch, cf_drop_mult,\n",
        "                                         bw_enc_name, bptt)\n",
        "\n",
        "set_prng_states(load_prng_states(tune_bw_cf_name))\n",
        "bw_cf_lrnr = retain_event(tune_bw_cf_name, bw_cf_lrnr)\n",
        "\n",
        "bw_preds, tgt_lbls = bw_cf_lrnr.get_preds(ordered=True)\n",
        "accuracy(bw_preds, tgt_lbls)"
      ],
      "execution_count": 0,
      "outputs": [
        {
          "output_type": "stream",
          "text": [
            "Checkpoint(name='tune_bw_cf-b64-bptt70-lr0.07234_enc-b64-bptt70-lr0.01125', frozen_to=0, mp_loss_scale=16384.0) loaded from /content/gdrive/My Drive/imdb/data/cp-tune_bw_cf-b64-bptt70-lr0.07234_enc-b64-bptt70-lr0.01125.pkl\n",
            "Frozen to 0\n",
            "Retained mb_loss_scale=16384.0\n"
          ],
          "name": "stdout"
        },
        {
          "output_type": "execute_result",
          "data": {
            "text/plain": [
              "tensor(0.9479)"
            ]
          },
          "metadata": {
            "tags": []
          },
          "execution_count": 393
        }
      ]
    },
    {
      "cell_type": "code",
      "metadata": {
        "id": "3j07IMoAnmE6",
        "colab_type": "code",
        "outputId": "ee911e6e-e315-4790-ff0e-5ffdc46485b5",
        "colab": {
          "base_uri": "https://localhost:8080/",
          "height": 62
        }
      },
      "source": [
        "print(f'lm_lr={lm_lr}\\tcf_lr={cf_lr}')\n",
        "avg_preds = (fw_preds + bw_preds) / 2\n",
        "accuracy(avg_preds, tgt_lbls)"
      ],
      "execution_count": 0,
      "outputs": [
        {
          "output_type": "stream",
          "text": [
            "lm_lr=0.01125\tcf_lr=0.07234\n"
          ],
          "name": "stdout"
        },
        {
          "output_type": "execute_result",
          "data": {
            "text/plain": [
              "tensor(0.9545)"
            ]
          },
          "metadata": {
            "tags": []
          },
          "execution_count": 394
        }
      ]
    }
  ]
}